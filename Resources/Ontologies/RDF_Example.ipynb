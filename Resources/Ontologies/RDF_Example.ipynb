{
 "cells": [
  {
   "cell_type": "markdown",
   "metadata": {},
   "source": [
    "# RDF EXAMPLE"
   ]
  },
  {
   "cell_type": "code",
   "execution_count": 1,
   "metadata": {
    "collapsed": true
   },
   "outputs": [],
   "source": [
    "from rdflib import URIRef, BNode, Literal"
   ]
  },
  {
   "cell_type": "markdown",
   "metadata": {},
   "source": [
    "URIRefs and BNodes can both be thought of as resources, such a person, a company, a web-site, etc. <br>\n",
    "A BNode is a node where the exact URI is not known. <br>\n",
    "URIRefs are also used to represent the properties/predicates in the RDF graph. <br>\n",
    "Literals represent attribute values, such as a name, a date, a number, etc."
   ]
  },
  {
   "cell_type": "code",
   "execution_count": 2,
   "metadata": {
    "collapsed": true
   },
   "outputs": [],
   "source": [
    "bob = URIRef(\"http://example.org/person/Bob\")\n",
    "eve = URIRef(\"http://example.org/person/Eve\")\n",
    "linda = BNode()\n",
    "\n",
    "name = Literal('Bob') \n",
    "age = Literal(24) \n",
    "height = Literal(76.5)"
   ]
  },
  {
   "cell_type": "markdown",
   "metadata": {},
   "source": [
    "For creating many URIRefs in the same namespace, i.e. URIs with the same prefix"
   ]
  },
  {
   "cell_type": "code",
   "execution_count": 3,
   "metadata": {},
   "outputs": [
    {
     "data": {
      "text/plain": [
       "rdflib.term.URIRef('http://example.org/person/eve')"
      ]
     },
     "execution_count": 3,
     "metadata": {},
     "output_type": "execute_result"
    }
   ],
   "source": [
    "from rdflib import Namespace\n",
    "\n",
    "n = Namespace(\"http://example.org/person/\")\n",
    "n.bob #same as = rdflib.term.URIRef(u'http://example.org/people/bob')\n",
    "n.eve #same as = rdflib.term.URIRef(u'http://example.org/people/eve')"
   ]
  },
  {
   "cell_type": "markdown",
   "metadata": {},
   "source": [
    "This is very useful for schemas where all properties and classes have the same URI prefix, <br>\n",
    "RDFLib pre-defines Namespaces for the most common RDF schemas:"
   ]
  },
  {
   "cell_type": "code",
   "execution_count": 4,
   "metadata": {},
   "outputs": [
    {
     "data": {
      "text/plain": [
       "rdflib.term.URIRef('http://xmlns.com/foaf/0.1/knows')"
      ]
     },
     "execution_count": 4,
     "metadata": {},
     "output_type": "execute_result"
    }
   ],
   "source": [
    "from rdflib.namespace import RDF, FOAF\n",
    "\n",
    "RDF.type\n",
    "# = rdflib.term.URIRef(u'http://www.w3.org/1999/02/22-rdf-syntax-ns#type')\n",
    "FOAF.knows\n",
    "# = rdflib.term.URIRef(u'http://xmlns.com/foaf/0.1/knows')"
   ]
  },
  {
   "cell_type": "markdown",
   "metadata": {},
   "source": [
    "Graph.add() <br>\n",
    "Add a triple with self as context <br>\n",
    "\n",
    "add() takes a 3-tuple of RDFLib nodes. <br>\n",
    "Try the following with the nodes and namespaces we defined previously: <br>"
   ]
  },
  {
   "cell_type": "code",
   "execution_count": 12,
   "metadata": {
    "collapsed": true
   },
   "outputs": [],
   "source": [
    "from rdflib import Graph\n",
    "g = Graph()\n",
    "\n",
    "g.add( (bob, RDF.type, FOAF.Person) )\n",
    "g.add( (bob, FOAF.name, name) )\n",
    "g.add( (eve, RDF.type, FOAF.Person) )\n",
    "g.add( (bob, FOAF.knows, eve) )\n",
    "g.add( (linda, RDF.type, FOAF.Person) )\n",
    "g.add( (linda, FOAF.name, Literal('Eve') ) )\n",
    "\n",
    "g.serialize('example1.rdf')"
   ]
  },
  {
   "cell_type": "code",
   "execution_count": null,
   "metadata": {
    "collapsed": true
   },
   "outputs": [],
   "source": []
  }
 ],
 "metadata": {
  "kernelspec": {
   "display_name": "Python 3",
   "language": "python",
   "name": "python3"
  },
  "language_info": {
   "codemirror_mode": {
    "name": "ipython",
    "version": 3
   },
   "file_extension": ".py",
   "mimetype": "text/x-python",
   "name": "python",
   "nbconvert_exporter": "python",
   "pygments_lexer": "ipython3",
   "version": "3.6.1"
  }
 },
 "nbformat": 4,
 "nbformat_minor": 2
}
