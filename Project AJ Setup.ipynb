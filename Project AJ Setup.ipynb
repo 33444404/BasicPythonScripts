{
 "cells": [
  {
   "cell_type": "markdown",
   "metadata": {},
   "source": [
    "# Setup \n",
    "\n",
    "If you can see this notebook, it means that you're ready to start coding in Python. Here are a few installs that you can run to get started. If you aren't using Jupyter Notebook, find a different way to install these packages.\n",
    "\n",
    "PyCharm: Make use of project interpreter\n",
    "VS: Google knows more than I do here"
   ]
  },
  {
   "cell_type": "code",
   "execution_count": 4,
   "metadata": {
    "collapsed": true
   },
   "outputs": [
    {
     "name": "stdout",
     "output_type": "stream",
     "text": [
      "Collecting Owlready\n",
      "  Downloading https://files.pythonhosted.org/packages/95/13/8d47bb175297d4d95bc5bc67b9d08111056cb35079f6a041214979484a57/Owlready-0.3.1.tar.gz (6.9MB)\n",
      "Building wheels for collected packages: Owlready\n",
      "  Running setup.py bdist_wheel for Owlready: started\n",
      "  Running setup.py bdist_wheel for Owlready: finished with status 'done'\n",
      "  Stored in directory: C:\\Users\\jacqu\\AppData\\Local\\pip\\Cache\\wheels\\0d\\29\\81\\918115d861b1bf5b4d78ace0fdae14bda0ef3ba5c957a62ad0\n",
      "Successfully built Owlready\n",
      "Installing collected packages: Owlready\n",
      "Successfully installed Owlready-0.3.1\n"
     ]
    },
    {
     "name": "stderr",
     "output_type": "stream",
     "text": [
      "You are using pip version 9.0.1, however version 18.0 is available.\n",
      "You should consider upgrading via the 'python -m pip install --upgrade pip' command.\n"
     ]
    }
   ],
   "source": [
    "!pip install pandas\n",
    "!pip install Owlready\n",
    "!pip install rdflib"
   ]
  },
  {
   "cell_type": "code",
   "execution_count": 2,
   "metadata": {
    "collapsed": true
   },
   "outputs": [],
   "source": [
    "# To test what this code does, comment out the code below and rerun the cell\n",
    "import warnings\n",
    "warnings.filterwarnings(\"ignore\")"
   ]
  },
  {
   "cell_type": "code",
   "execution_count": 3,
   "metadata": {},
   "outputs": [],
   "source": [
    "from owlready import *\n",
    "import pandas as pd\n"
   ]
  },
  {
   "cell_type": "code",
   "execution_count": 6,
   "metadata": {},
   "outputs": [
    {
     "name": "stdout",
     "output_type": "stream",
     "text": [
      "Hello World! Except you know who\n"
     ]
    }
   ],
   "source": [
    "print(\"Hello World! Except you know who\")"
   ]
  },
  {
   "cell_type": "code",
   "execution_count": null,
   "metadata": {
    "collapsed": true
   },
   "outputs": [],
   "source": []
  },
  {
   "cell_type": "markdown",
   "metadata": {
    "collapsed": true
   },
   "source": [
    "Well done Smart Ass! You've written a 'Hello World! Except you know who' program. \n",
    "\n",
    "Now go do some cool shit!"
   ]
  }
 ],
 "metadata": {
  "kernelspec": {
   "display_name": "Python 3",
   "language": "python",
   "name": "python3"
  },
  "language_info": {
   "codemirror_mode": {
    "name": "ipython",
    "version": 3
   },
   "file_extension": ".py",
   "mimetype": "text/x-python",
   "name": "python",
   "nbconvert_exporter": "python",
   "pygments_lexer": "ipython3",
   "version": "3.6.1"
  }
 },
 "nbformat": 4,
 "nbformat_minor": 2
}
