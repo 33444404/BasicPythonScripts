{
 "cells": [
  {
   "cell_type": "code",
   "execution_count": 7,
   "metadata": {},
   "outputs": [
    {
     "name": "stdout",
     "output_type": "stream",
     "text": [
      "Collecting extcolors\n",
      "  Using cached https://files.pythonhosted.org/packages/b5/9f/5b7248c3d8a0e543875a33fc88518bfc2649d3b4fc61b8d75fc8e5b90eae/extcolors-0.1.2-py3-none-any.whl\n",
      "Requirement already satisfied: Pillow in c:\\program files (x86)\\microsoft visual studio\\shared\\anaconda3_64\\lib\\site-packages (from extcolors) (5.1.0)\n",
      "Installing collected packages: extcolors\n"
     ]
    },
    {
     "name": "stderr",
     "output_type": "stream",
     "text": [
      "requests 2.19.1 has requirement urllib3<1.24,>=1.21.1, but you'll have urllib3 1.24 which is incompatible.\n",
      "azure-mgmt-network 1.5.0rc3 has requirement msrestazure~=0.4.11, but you'll have msrestazure 0.5.0 which is incompatible.\n",
      "azure-mgmt-dns 1.2.0 has requirement msrestazure~=0.4.11, but you'll have msrestazure 0.5.0 which is incompatible.\n",
      "Could not install packages due to an EnvironmentError: [WinError 5] Access is denied: 'C:\\\\Program Files (x86)\\\\Microsoft Visual Studio\\\\Shared\\\\Anaconda3_64\\\\Lib\\\\site-packages\\\\extcolors'\n",
      "Consider using the `--user` option or check the permissions.\n",
      "\n",
      "You are using pip version 10.0.1, however version 19.0.2 is available.\n",
      "You should consider upgrading via the 'python -m pip install --upgrade pip' command.\n"
     ]
    }
   ],
   "source": [
    "#!pip install extcolors"
   ]
  },
  {
   "cell_type": "code",
   "execution_count": 26,
   "metadata": {},
   "outputs": [
    {
     "name": "stdout",
     "output_type": "stream",
     "text": [
      "[((39, 36, 94), 459729), ((250, 180, 127), 273943), ((200, 86, 136), 265875), ((81, 106, 145), 155977), ((130, 208, 139), 42032), ((255, 255, 255), 39665), ((52, 161, 176), 30555), ((205, 226, 82), 24432), ((171, 124, 116), 3323), ((249, 196, 69), 466), ((143, 145, 85), 3)]\n"
     ]
    }
   ],
   "source": [
    "import extcolors\n",
    "colors, pixel_count = extcolors.extract(\"C:\\\\Britehouse\\\\BI\\\\Concepts\\\\Color Palette\\\\tl-landing-01.png\")\n",
    "print(colors)"
   ]
  },
  {
   "cell_type": "code",
   "execution_count": 27,
   "metadata": {},
   "outputs": [
    {
     "data": {
      "text/plain": [
       "11"
      ]
     },
     "execution_count": 27,
     "metadata": {},
     "output_type": "execute_result"
    }
   ],
   "source": [
    "len(colors)"
   ]
  },
  {
   "cell_type": "code",
   "execution_count": 28,
   "metadata": {},
   "outputs": [
    {
     "data": {
      "text/plain": [
       "list"
      ]
     },
     "execution_count": 28,
     "metadata": {},
     "output_type": "execute_result"
    }
   ],
   "source": [
    "type(colors)"
   ]
  },
  {
   "cell_type": "code",
   "execution_count": 29,
   "metadata": {},
   "outputs": [
    {
     "name": "stdout",
     "output_type": "stream",
     "text": [
      "[((227, 26, 44), 544683), ((9, 9, 9), 301472), ((237, 117, 5), 88666), ((92, 59, 54), 87526), ((209, 136, 119), 70176), ((140, 19, 26), 20644), ((252, 220, 205), 4086), ((75, 78, 119), 3177), ((248, 185, 10), 2190), ((225, 73, 124), 1215), ((175, 139, 63), 968), ((156, 146, 157), 174), ((-2, 9, 50), 15), ((255, 196, 241), 6), ((77, 86, 21), 2)]\n"
     ]
    },
    {
     "data": {
      "text/plain": [
       "15"
      ]
     },
     "execution_count": 29,
     "metadata": {},
     "output_type": "execute_result"
    }
   ],
   "source": [
    "colors, pixel_count = extcolors.extract(\"C:\\\\Britehouse\\\\BI\\\\Concepts\\\\Color Palette\\\\The-Incredibles-Edna-Mode.jpg\")\n",
    "print(colors)\n",
    "\n",
    "len(colors)"
   ]
  },
  {
   "cell_type": "code",
   "execution_count": 19,
   "metadata": {},
   "outputs": [],
   "source": []
  }
 ],
 "metadata": {
  "kernelspec": {
   "display_name": "Python 3",
   "language": "python",
   "name": "python3"
  },
  "language_info": {
   "codemirror_mode": {
    "name": "ipython",
    "version": 3
   },
   "file_extension": ".py",
   "mimetype": "text/x-python",
   "name": "python",
   "nbconvert_exporter": "python",
   "pygments_lexer": "ipython3",
   "version": "3.6.5"
  }
 },
 "nbformat": 4,
 "nbformat_minor": 2
}
