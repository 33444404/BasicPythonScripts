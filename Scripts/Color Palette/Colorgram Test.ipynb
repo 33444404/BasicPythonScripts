{
 "cells": [
  {
   "cell_type": "code",
   "execution_count": null,
   "metadata": {},
   "outputs": [],
   "source": [
    "#!pip install cologram.py\n",
    "#!pip install webcolors"
   ]
  },
  {
   "cell_type": "code",
   "execution_count": 370,
   "metadata": {},
   "outputs": [],
   "source": [
    "image = \"C:\\\\Britehouse\\\\BI\\\\Concepts\\\\Color Palette\\\\fire-flame-colorful-logo-vector-20693024.jpg\"#\"C:\\Britehouse\\BI\\Concepts\\Color Palette\\colorful-logo-design-60-attractive-and-colorful-logo-design-inspiration-for-you-printable.gif\" #\"C:\\Britehouse\\BI\\Concepts\\Color Palette\\STEVE.png\"\n",
    "palette_name = 'Test'\n",
    "diff = 255"
   ]
  },
  {
   "cell_type": "code",
   "execution_count": 371,
   "metadata": {},
   "outputs": [],
   "source": [
    "import colorgram\n",
    "import pandas as pd\n",
    "import matplotlib.pyplot as plt\n",
    "import webcolors"
   ]
  },
  {
   "cell_type": "code",
   "execution_count": 372,
   "metadata": {},
   "outputs": [],
   "source": [
    "# Extract 6 colors from an image.\n",
    "colors = colorgram.extract(image, 40)\n",
    "\n",
    "# colorgram.extract returns Color objects, which let you access\n",
    "# RGB, HSL, and what proportion of the image was that color.\n",
    "first_color = colors[0]\n",
    "rgb = first_color.rgb # e.g. (255, 151, 210)\n",
    "hsl = first_color.hsl # e.g. (230, 255, 203)\n",
    "proportion  = first_color.proportion # e.g. 0.34\n",
    "\n",
    "# RGB and HSL are named tuples, so values can be accessed as properties.\n",
    "# These all work just as well:\n",
    "red = rgb[0]\n",
    "red = rgb.r\n",
    "saturation = hsl[1]\n",
    "saturation = hsl.h"
   ]
  },
  {
   "cell_type": "code",
   "execution_count": 377,
   "metadata": {},
   "outputs": [],
   "source": [
    "#colors.sort(key=lambda c: c.hsl.l)\n",
    "colors.sort(key=lambda c: c.rgb.r)\n",
    "#colors.sort(key=lambda c: c.hsl.s)"
   ]
  },
  {
   "cell_type": "code",
   "execution_count": 378,
   "metadata": {},
   "outputs": [],
   "source": [
    "def get_color_list(diff):\n",
    "    color_list = []\n",
    "    for i in range(0,len(colors)):\n",
    "        if len(color_list) > 0:\n",
    "            for j in range(0,len(color_list)):\n",
    "                if (colors[i].rgb[0] - color_list[j].rgb[0]) >= diff:\n",
    "                    if (colors[i].rgb[1] - color_list[j].rgb[1]) >= diff:\n",
    "                        if (colors[i].rgb[2] - color_list[j].rgb[2]) >= diff:\n",
    "                            color_list.append(colors[i])                \n",
    "                            #plt.imshow([(colors[i].rgb[0],colors[i].rgb[1],colors[i].rgb[2])])\n",
    "                            #plt.show()\n",
    "\n",
    "        else:\n",
    "            color_list.append(colors[i])\n",
    "\n",
    "        #print(colors[i].rgb)\n",
    "\n",
    "    color_list.sort(key=lambda c: c.hsl.s)\n",
    "    \n",
    "    color_list = color_list[:8]\n",
    "    return color_list"
   ]
  },
  {
   "cell_type": "code",
   "execution_count": 379,
   "metadata": {},
   "outputs": [
    {
     "data": {
      "text/plain": [
       "['#fefefe',\n",
       " '#abadac',\n",
       " '#9f9fa8',\n",
       " '#bdbcc7',\n",
       " '#b1a1b1',\n",
       " '#f1f2f6',\n",
       " '#111224',\n",
       " '#d5abdb']"
      ]
     },
     "execution_count": 379,
     "metadata": {},
     "output_type": "execute_result"
    }
   ],
   "source": [
    "color_list = []\n",
    "\n",
    "while len(color_list) < 8:\n",
    "    color_list = get_color_list(diff)\n",
    "    \n",
    "    diff -= 10\n",
    "    \n",
    "palette = []\n",
    "\n",
    "for i in range(0,len(color_list)):\n",
    "    hex_color = webcolors.rgb_to_hex((color_list[i].rgb[0],color_list[i].rgb[1],color_list[i].rgb[2]))\n",
    "    \n",
    "    palette.append(str(hex_color))\n",
    "    \n",
    "palette"
   ]
  },
  {
   "cell_type": "code",
   "execution_count": 380,
   "metadata": {},
   "outputs": [],
   "source": [
    "df_Color = pd.DataFrame(columns=('name','dataColors','background','foreground','tableAccent'))\n",
    "\n",
    "df_Color = df_Color.append([{'name':palette_name,'dataColors':palette,'background':palette[0],'foreground':palette[7],'tableAccent':palette[1]}], ignore_index=True)\n",
    "\n",
    "df_Color.to_json('{}.json'.format(palette_name),\n",
    "                 orient=\"records\",\n",
    "                 lines=True)"
   ]
  },
  {
   "cell_type": "code",
   "execution_count": null,
   "metadata": {},
   "outputs": [],
   "source": []
  }
 ],
 "metadata": {
  "kernelspec": {
   "display_name": "Python 3",
   "language": "python",
   "name": "python3"
  },
  "language_info": {
   "codemirror_mode": {
    "name": "ipython",
    "version": 3
   },
   "file_extension": ".py",
   "mimetype": "text/x-python",
   "name": "python",
   "nbconvert_exporter": "python",
   "pygments_lexer": "ipython3",
   "version": "3.6.5"
  }
 },
 "nbformat": 4,
 "nbformat_minor": 2
}
