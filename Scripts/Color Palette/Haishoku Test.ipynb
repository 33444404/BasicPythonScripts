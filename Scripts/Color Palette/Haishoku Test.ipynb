{
 "cells": [
  {
   "cell_type": "code",
   "execution_count": 13,
   "metadata": {},
   "outputs": [],
   "source": [
    "#!pip3 install haishoku"
   ]
  },
  {
   "cell_type": "code",
   "execution_count": 50,
   "metadata": {},
   "outputs": [],
   "source": [
    "from haishoku.haishoku import Haishoku\n",
    "import pandas as pd\n",
    "import matplotlib.pyplot as plt\n",
    "import webcolors"
   ]
  },
  {
   "cell_type": "code",
   "execution_count": 56,
   "metadata": {},
   "outputs": [],
   "source": [
    "image = path,
    "palette_name = 'Test'"
   ]
  },
  {
   "cell_type": "code",
   "execution_count": 57,
   "metadata": {},
   "outputs": [],
   "source": [
    "palette = Haishoku.getPalette(image)"
   ]
  },
  {
   "cell_type": "code",
   "execution_count": 55,
   "metadata": {},
   "outputs": [],
   "source": [
    "palette_list = []\n",
    "\n",
    "for i in range(0,len(palette)):\n",
    "    hex_color = webcolors.rgb_to_hex((palette[i][1]))\n",
    "    \n",
    "    palette_list.append(str(hex_color))\n",
    "    \n",
    "palette_list = palette_list[:8]"
   ]
  },
  {
   "cell_type": "code",
   "execution_count": 39,
   "metadata": {},
   "outputs": [],
   "source": [
    "df_Color = pd.DataFrame(columns=('name','dataColors','background','foreground','tableAccent'))\n",
    "\n",
    "df_Color = df_Color.append([{'name':palette_name,'dataColors':palette_list,'background':palette_list[0],'foreground':palette_list[7],'tableAccent':palette_list[1]}], ignore_index=True)\n",
    "\n",
    "df_Color.to_json('{}.json'.format(palette_name),\n",
    "                 orient=\"records\",\n",
    "                 lines=True)"
   ]
  },
  {
   "cell_type": "code",
   "execution_count": null,
   "metadata": {},
   "outputs": [],
   "source": []
  }
 ],
 "metadata": {
  "kernelspec": {
   "display_name": "Python 3",
   "language": "python",
   "name": "python3"
  },
  "language_info": {
   "codemirror_mode": {
    "name": "ipython",
    "version": 3
   },
   "file_extension": ".py",
   "mimetype": "text/x-python",
   "name": "python",
   "nbconvert_exporter": "python",
   "pygments_lexer": "ipython3",
   "version": "3.6.5"
  }
 },
 "nbformat": 4,
 "nbformat_minor": 2
}
