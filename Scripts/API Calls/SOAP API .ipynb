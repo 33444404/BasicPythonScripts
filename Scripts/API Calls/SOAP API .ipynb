{
 "cells": [
  {
   "cell_type": "markdown",
   "metadata": {},
   "source": [
    "# SOAP Using Session Key and Writing to Pandas DataFrame"
   ]
  },
  {
   "cell_type": "code",
   "execution_count": null,
   "metadata": {},
   "outputs": [],
   "source": [
    "import datetime\n",
    "import zeep\n",
    "from zeep import Client\n",
    "from zeep.transports import Transport\n",
    "from requests import Session\n",
    "from requests.auth import HTTPBasicAuth\n",
    "import pandas as pd\n",
    "\n",
    "username = \"\"\n",
    "password = \"\"\n",
    "wsdl = \"\"\n",
    "\n",
    "session = Session()\n",
    "session.auth = HTTPBasicAuth(username, password)\n",
    "client = Client(wsdl, transport=Transport(session=session))\n",
    "\n",
    "SessionKey = client.service.SessionStart(Input=SessionStartInputHeader)\n",
    "key = SessionKey.Result.DataRows.DataRow[0].SessionKey\n",
    "\n",
    "try:\n",
    "\n",
    "    servicesessiondata = {\n",
    "        'Key': key\n",
    "    }\n",
    "\n",
    "    servicesessioninputheader = {\"Parameters\": servicesessiondata}\n",
    "    service_key = client.service.ServiceSessionStart(Input=servicesessioninputheader)\n",
    "    service_key = service_key.Result.DataRows.DataRow[0].ServiceSessionKey\n",
    "\n",
    "    request_data = {\n",
    "        \"Parameters\": {\n",
    "            \n",
    "        },\n",
    "        \"Header\": {'ServiceSessionKey': service_key}}\n",
    "\n",
    "    response = client.service.FunctionName(Input=request_data)\n",
    "\n",
    "    # manipulating response\n",
    "    result = zeep.helpers.serialize_object(response)\n",
    "\n",
    "    df = pd.DataFrame(result['Result']['DataRows']['DataRow'])\n",
    "\n",
    "    df['LoadDate'] = datetime.now()\n",
    "    df['LoadSource'] = \"Python Script\"\n",
    "\n",
    "except Exception as e:\n",
    "\n",
    "    print(e)\n",
    "\n",
    "finally:\n",
    "\n",
    "    # for terminating the session run:\n",
    "    terminate_key = {\"Header\": key}\n",
    "    client.service.SessionEnd(Input=terminate_key)"
   ]
  }
 ],
 "metadata": {
  "kernelspec": {
   "display_name": "Python 3",
   "language": "python",
   "name": "python3"
  },
  "language_info": {
   "codemirror_mode": {
    "name": "ipython",
    "version": 3
   },
   "file_extension": ".py",
   "mimetype": "text/x-python",
   "name": "python",
   "nbconvert_exporter": "python",
   "pygments_lexer": "ipython3",
   "version": "3.6.4"
  }
 },
 "nbformat": 4,
 "nbformat_minor": 2
}
