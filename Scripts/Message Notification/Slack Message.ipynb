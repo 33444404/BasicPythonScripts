{
 "cells": [
  {
   "cell_type": "markdown",
   "metadata": {},
   "source": [
    "# Slack Message Intergration"
   ]
  },
  {
   "cell_type": "markdown",
   "metadata": {},
   "source": [
    "## Imports"
   ]
  },
  {
   "cell_type": "code",
   "execution_count": null,
   "metadata": {},
   "outputs": [],
   "source": [
    "from urllib import request, parse"
   ]
  },
  {
   "cell_type": "markdown",
   "metadata": {},
   "source": [
    "## Customized Channel, Username, Text and Icon"
   ]
  },
  {
   "cell_type": "code",
   "execution_count": null,
   "metadata": {},
   "outputs": [],
   "source": [
    "def send_message_to_slack(channel, username, text, icon, webhook):\n",
    "    \n",
    "    post = {\"channel\":\"{}\".format(channel),\"username\":\"{}\".format(username), \"icon_url\" : \"{}\".format(icon), \"text\": \"{}\".format(text)}\n",
    " \n",
    "    try:\n",
    "        json_data = json.dumps(post)\n",
    "        req = request.Request(webhook,\n",
    "                              data=json_data.encode('ascii'),\n",
    "                              headers={'Content-Type': 'application/json'}) \n",
    "        resp = request.urlopen(req)\n",
    "\n",
    "    except Exception as em:\n",
    "\n",
    "        print(\"EXCEPTION: \" + str(em))"
   ]
  },
  {
   "cell_type": "markdown",
   "metadata": {},
   "source": [
    "## Only Text"
   ]
  },
  {
   "cell_type": "code",
   "execution_count": null,
   "metadata": {},
   "outputs": [],
   "source": [
    "def send_message_to_slack(text, webhook):\n",
    "    \n",
    "    post = {\"text\": \"{}\".format(text)}\n",
    " \n",
    "    try:\n",
    "        json_data = json.dumps(post)\n",
    "        req = request.Request(webhook,\n",
    "                              data=json_data.encode('ascii'),\n",
    "                              headers={'Content-Type': 'application/json'}) \n",
    "        resp = request.urlopen(req)\n",
    "\n",
    "    except Exception as em:\n",
    "\n",
    "        print(\"EXCEPTION: \" + str(em))"
   ]
  }
 ],
 "metadata": {
  "kernelspec": {
   "display_name": "Python 3",
   "language": "python",
   "name": "python3"
  },
  "language_info": {
   "codemirror_mode": {
    "name": "ipython",
    "version": 3
   },
   "file_extension": ".py",
   "mimetype": "text/x-python",
   "name": "python",
   "nbconvert_exporter": "python",
   "pygments_lexer": "ipython3",
   "version": "3.6.4"
  }
 },
 "nbformat": 4,
 "nbformat_minor": 2
}
