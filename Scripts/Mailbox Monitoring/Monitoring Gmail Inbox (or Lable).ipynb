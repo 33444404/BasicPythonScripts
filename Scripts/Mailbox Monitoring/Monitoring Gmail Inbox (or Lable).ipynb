{
 "cells": [
  {
   "cell_type": "markdown",
   "metadata": {},
   "source": [
    "#  Monitoring Gmail Inbox"
   ]
  },
  {
   "cell_type": "markdown",
   "metadata": {},
   "source": [
    "Many automation solutions make use of the functionality provided by mail services as it serves as an important element that allows for communication between humans and the automation process. There are many benefits provided by using Google Mail (Gmail), one of which is cost - for that reason, we will focus on providing a step-by-step guide of how to monitor emails coming into your Gmail inbox, with the ability to monitor specific lables. "
   ]
  },
  {
   "cell_type": "markdown",
   "metadata": {},
   "source": [
    "## Import Libraries"
   ]
  },
  {
   "cell_type": "code",
   "execution_count": null,
   "metadata": {},
   "outputs": [],
   "source": [
    "import imaplib, email"
   ]
  },
  {
   "cell_type": "markdown",
   "metadata": {},
   "source": [
    "## Gather Variable Values"
   ]
  },
  {
   "cell_type": "code",
   "execution_count": null,
   "metadata": {},
   "outputs": [],
   "source": [
    "imap_url = 'imap.gmail.com'\n",
    "\n",
    "user = input(\"Please enter your email address: \")\n",
    "password = input(\"Please enter your password: \")\n",
    "lable = input(\"Please enter the lable that you'd like to search: \")\n",
    "search_criteria = input(\"Please enter the subject search criteria: \")"
   ]
  },
  {
   "cell_type": "markdown",
   "metadata": {},
   "source": [
    "## Define Methods"
   ]
  },
  {
   "cell_type": "code",
   "execution_count": null,
   "metadata": {},
   "outputs": [],
   "source": [
    "# Retrieves email content\n",
    "def get_body(message): \n",
    "    if message.is_multipart(): \n",
    "        return get_body(message.get_payload(0)) \n",
    "    else: \n",
    "        return message.get_payload(None, True) \n",
    "    \n",
    "# Search mailbox (or lable) for a key value pair\n",
    "def search(key, value, con):  \n",
    "    result, data = con.search(None, key, '\"{}\"'.format(value)) \n",
    "    return data \n",
    "  \n",
    "# Retrieve the list of emails that meet the search criteria\n",
    "def get_emails(result_bytes): \n",
    "    messages = [] # all the email data are pushed inside an array \n",
    "    for num in result_bytes[0].split(): \n",
    "        typ, data = con.fetch(num, '(RFC822)') \n",
    "        messages.append(data) \n",
    "  \n",
    "    return messages \n",
    "\n",
    "# Authenticate\n",
    "def authenticate(imap_url, user, password, lable):\n",
    "    \n",
    "    # SSL connnection with Gmail \n",
    "    con = imaplib.IMAP4_SSL(imap_url)  \n",
    "\n",
    "    # Authenticate the user through login\n",
    "    con.login(user, password)  \n",
    "\n",
    "    # Search for mails under this lable\n",
    "    con.select(lable)",
    "\n",
    "    return con"
   ]
  },
  {
   "cell_type": "markdown",
   "metadata": {},
   "source": [
    "## Authenticate"
   ]
  },
  {
   "cell_type": "code",
   "execution_count": null,
   "metadata": {},
   "outputs": [],
   "source": [
    "con = authenticate(imap_url, user, password, lable)"
   ]
  },
  {
   "cell_type": "markdown",
   "metadata": {},
   "source": [
    "## Extract Mails"
   ]
  },
  {
   "cell_type": "code",
   "execution_count": null,
   "metadata": {},
   "outputs": [],
   "source": [
    "# Retrieve mails\n",
    "search_results = search('Subject', search_criteria, con)\n",
    "messages = get_emails(searhc_results) \n",
    "  \n",
    "# Uncomment to view the mail results\n",
    "#print(messages)"
   ]
  },
  {
   "cell_type": "markdown",
   "metadata": {},
   "source": [
    "## Extract Relevant Information From Results"
   ]
  },
  {
   "cell_type": "code",
   "execution_count": null,
   "metadata": {},
   "outputs": [],
   "source": [
    "for message in messages[::-1]:  \n",
    "        \n",
    "    for content in message: \n",
    "                       \n",
    "        if type(content) is tuple:  \n",
    "  \n",
    "            # Encoding set as utf-8 \n",
    "            decoded_content = str(content[1], 'utf-8')  \n",
    "            data = str(decoded_content) \n",
    "            \n",
    "            # Extracting the subject from the mail content\n",
    "            subject = data.split('Subject: ')[1].split('Mime-Version')[0]\n",
    "                                      \n",
    "            # Handling errors related to unicodenecode \n",
    "            try:  \n",
    "                indexstart = data.find(\"ltr\") \n",
    "                \n",
    "                data2 = data[indexstart + 5: len(data)] \n",
    "                \n",
    "                indexend = data2.find(\"</div>\") \n",
    "                \n",
    "                # Uncomment to see what the content looks like\n",
    "                #print(data2[0: indexend]) \n",
    "  \n",
    "            except UnicodeEncodeError as e: \n",
    "                pass"
   ]
  }
 ],
 "metadata": {
  "kernelspec": {
   "display_name": "Python 3",
   "language": "python",
   "name": "python3"
  },
  "language_info": {
   "codemirror_mode": {
    "name": "ipython",
    "version": 3
   },
   "file_extension": ".py",
   "mimetype": "text/x-python",
   "name": "python",
   "nbconvert_exporter": "python",
   "pygments_lexer": "ipython3",
   "version": "3.6.4"
  }
 },
 "nbformat": 4,
 "nbformat_minor": 2
}
