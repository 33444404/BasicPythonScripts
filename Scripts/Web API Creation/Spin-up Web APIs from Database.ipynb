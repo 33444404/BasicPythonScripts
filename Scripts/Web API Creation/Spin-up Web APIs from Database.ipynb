{
 "cells": [
  {
   "cell_type": "markdown",
   "metadata": {},
   "source": [
    "# Spinning up a Web API to interface with an existing SQL Server Database\n",
    "\n",
    "For more information on how to further customise the creation of the project, please go to:\n",
    "https://docs.microsoft.com/en-us/dotnet/core/tools/dotnet-new#webapi"
   ]
  },
  {
   "cell_type": "markdown",
   "metadata": {},
   "source": [
    "## Import libraries needed"
   ]
  },
  {
   "cell_type": "code",
   "execution_count": 1,
   "metadata": {},
   "outputs": [],
   "source": [
    "from datetime import datetime\n",
    "\n",
    "import os"
   ]
  },
  {
   "cell_type": "markdown",
   "metadata": {},
   "source": [
    "## Initialise the variables needed"
   ]
  },
  {
   "cell_type": "code",
   "execution_count": 2,
   "metadata": {},
   "outputs": [],
   "source": [
    "project_path = r\"{}\\Projects\".format(os.getcwd()) # points to a folder named projects created in the same directory as this script\n",
    "project_name = \"TestScriptWebAPI\" # the name of the project (and file that groups the project/solution files together)\n",
    "\n",
    "start_directory = os.getcwd() # the directory of the script\n",
    "start_time = datetime.now() # the time that process started"
   ]
  },
  {
   "cell_type": "markdown",
   "metadata": {},
   "source": [
    "## Create the project\n",
    "\n",
    "Ensure that the dotnet CLI has been installed: https://dotnet.microsoft.com/download/dotnet-core/thank-you/sdk-3.1.201-windows-x64-installer"
   ]
  },
  {
   "cell_type": "code",
   "execution_count": 3,
   "metadata": {},
   "outputs": [],
   "source": [
    "# this method is reusable for all commands (dotnet commands in this project)\n",
    "# this method first changes the path to the required file path and then executes the command\n",
    "def ExecuteCommand(command, file_path):\n",
    "    \n",
    "    # if the file path exists and is not empty, change to the directory else return False and \"File path not valid\"\n",
    "    if file_path != None and os.path.exists(file_path):\n",
    "\n",
    "        os.chdir(file_path)\n",
    "\n",
    "    else:\n",
    "\n",
    "        return False, \"File path not valid\" # False depicts that the command did not run successfully due to the invalid file path\n",
    "\n",
    "    command_output = os.popen(command).read() # command is executed\n",
    "\n",
    "    return True, command_output # True depicts that the command was executed successfully, however, it might not be the desired out put which is why the command_output is also returned"
   ]
  },
  {
   "cell_type": "code",
   "execution_count": 4,
   "metadata": {},
   "outputs": [],
   "source": [
    "# this method is used to create the project, the solution and the linkage between the two\n",
    "def CreateWebAPI(project_name, project_path):\n",
    "    \n",
    "    # create the solution path if it doesn't exist yet\n",
    "    solution_path = r\"{}\\{}\".format(project_path, project_name)\n",
    "    \n",
    "    if (os.path.exists(solution_path) == False):\n",
    "        \n",
    "        os.mkdir(solution_path)\n",
    "\n",
    "    # this is the command that will be run in order to create a new project.  Customising the project before creation would occur here\n",
    "    command = \"dotnet.exe new webapi --name {} --force\".format(project_name)\n",
    "\n",
    "    result = ExecuteCommand(command, project_path)[0]\n",
    "    \n",
    "    if result:\n",
    "        \n",
    "        print(\"Project successfully created\")\n",
    "        \n",
    "    else:\n",
    "        \n",
    "        print(\"Project not created\")\n",
    "\n",
    "    # this is the command that will be run in order to create a new sln.  Customising the project before creation would occur here\n",
    "    command = \"dotnet.exe new sln --name {} --force\".format(project_name)\n",
    "\n",
    "    result = ExecuteCommand(command, solution_path)[0]\n",
    "    \n",
    "    if result:\n",
    "        \n",
    "        print(\"Solution successfully created\")\n",
    "        \n",
    "    else:\n",
    "        \n",
    "        print(\"Solution not created\")\n",
    "            \n",
    "    # this is the command used to add the project to the solution\n",
    "    csproj_path = r\"{0}\\{1}\\{1}.csproj\".format(project_path, project_name)\n",
    "    command = 'dotnet.exe sln add \"{}\"'.format(csproj_path)\n",
    "    solution_path = r\"{}\\{}\".format(project_path, project_name)\n",
    "    \n",
    "    result = ExecuteCommand(command, solution_path)[0]\n",
    "    \n",
    "    if result:\n",
    "        \n",
    "        print(\"Project successfully added to solution\")\n",
    "        \n",
    "    else:\n",
    "        \n",
    "        print(\"Project not added to solution\")"
   ]
  },
  {
   "cell_type": "code",
   "execution_count": 5,
   "metadata": {},
   "outputs": [
    {
     "name": "stdout",
     "output_type": "stream",
     "text": [
      "dotnet.exe sln add \"C:\\Users\\Jacqui.Muller\\Dimension Data ITS Python Scripts\\01 Projects\\02 Form Automation\\Projects\\TestScriptWebAPI\\TestScriptWebAPI.csproj\"\n"
     ]
    }
   ],
   "source": [
    "CreateWebAPI(project_name, project_path)"
   ]
  },
  {
   "cell_type": "markdown",
   "metadata": {},
   "source": [
    "## Delete the default template content"
   ]
  },
  {
   "cell_type": "code",
   "execution_count": 6,
   "metadata": {},
   "outputs": [],
   "source": [
    "# this method deletes the template model and controller files that have been created with the project\n",
    "def DeleteTemplateFiles(project_path, project_name):\n",
    "\n",
    "    # delete the template WeatherForecast.cs Model class\n",
    "    template_model = r\"{}\\{}\\WeatherForecast.cs\".format(project_path, project_name)\n",
    "\n",
    "    if os.path.isfile(template_model):\n",
    "        os.remove(template_model)\n",
    "\n",
    "    # delete the template WeatherForecast.cs Controller class\n",
    "    template_controller = r\"{}\\{}\\Controllers\\WeatherForecastController.cs\".format(project_path, project_name)\n",
    "\n",
    "    if os.path.isfile(template_controller):\n",
    "        os.remove(template_controller)"
   ]
  },
  {
   "cell_type": "code",
   "execution_count": 7,
   "metadata": {},
   "outputs": [],
   "source": [
    "DeleteTemplateFiles(project_path, project_name)"
   ]
  },
  {
   "cell_type": "markdown",
   "metadata": {},
   "source": [
    "## Scaffold the database"
   ]
  },
  {
   "cell_type": "code",
   "execution_count": 8,
   "metadata": {},
   "outputs": [],
   "source": [
    "# this method compiles the command string from the database connection and tables\n",
    "def CompileCommandStrings(auth, server, database, tables, username, password):\n",
    "    \n",
    "    # the models are created in the Models folder\n",
    "    # the context is created in the Data folder\n",
    "\n",
    "    if auth == 'Windows':\n",
    "        \n",
    "        connection_string = text = '\"ConnectionStrings\": \\n\\t{\"DefaultConnection\": \"Initial Catalog=' + database + ';Data Source=' + server + '; Trusted_Connection=true;\"},\\n\"Logging\"'\n",
    "        command = 'dotnet.exe ef dbcontext scaffold \"Initial Catalog={};Data Source={}; Trusted_Connection=true;\" Microsoft.EntityFrameworkCore.SqlServer -o Models --context-dir Data'.format(database, server)\n",
    "\n",
    "    if auth == 'SQL':\n",
    "\n",
    "        connection_string = text = '\"ConnectionStrings\": {\\n\\t\"DefaultConnection\": \"Password=' + password + ';Persist Security Info=True;User ID=' + username + ';Initial Catalog=' + database + ';Data Source=' + server + '\"},\\n\"Logging\"'\n",
    "        command = 'dotnet.exe ef dbcontext scaffold \"Password={};Persist Security Info=True;User ID={};Initial Catalog={};Data Source={}\" Microsoft.EntityFrameworkCore.SqlServer -o Models --context-dir Data'.format(password, username, database, server)\n",
    "\n",
    "    if tables != '':\n",
    "\n",
    "        split_table = []\n",
    "\n",
    "        tables.replace(' ','')\n",
    "\n",
    "        if ',' in tables:\n",
    "\n",
    "            split_table = tables.split(',')\n",
    "\n",
    "        if ';' in tables:\n",
    "\n",
    "            split_table = tables.split(';')\n",
    "\n",
    "        for table in split_table:\n",
    "\n",
    "            command += ' -t {}'.format(table)\n",
    "\n",
    "    command += ' -f'\n",
    "    \n",
    "    return command, connection_string"
   ]
  },
  {
   "cell_type": "code",
   "execution_count": 9,
   "metadata": {},
   "outputs": [],
   "source": [
    "# this method installs the desired packages\n",
    "def InstallPackages(solution_path):\n",
    "    \n",
    "    # Install SqlServer\n",
    "    command = \"dotnet add package Microsoft.EntityFrameworkCore.SqlServer -v 3.1.1\"\n",
    "    command_result = ExecuteCommand(command, solution_path)\n",
    "    \n",
    "    # Install EF Design\n",
    "    command = \"dotnet add package Microsoft.EntityFrameworkCore.Design -v 3.1.1\"\n",
    "    command_result = ExecuteCommand(command, solution_path)\n",
    "    \n",
    "    # Install EF Tools\n",
    "    command = \"dotnet add package Microsoft.EntityFrameworkCore.Tools -v 3.1.1\"\n",
    "    command_result = ExecuteCommand(command, solution_path)"
   ]
  },
  {
   "cell_type": "code",
   "execution_count": 10,
   "metadata": {},
   "outputs": [],
   "source": [
    "# this method is used to scaffold the database into the project\n",
    "def ScaffoldDatabase(auth, server, database, tables, username, password, project_path):\n",
    "    \n",
    "    solution_path = r\"{}\\{}\".format(project_path, project_name)\n",
    "    \n",
    "    InstallPackages(solution_path)\n",
    "    \n",
    "    result = CompileCommandStrings(auth, server, database, tables, username, password)\n",
    "    command = result[0]\n",
    "    connection_string = result[1]\n",
    "        \n",
    "    command_result = ExecuteCommand(command, solution_path)\n",
    "    \n",
    "    print(command_result)"
   ]
  },
  {
   "cell_type": "code",
   "execution_count": 11,
   "metadata": {},
   "outputs": [],
   "source": [
    "ScaffoldDatabase('Windows', 'JACQUELINEMULLE\\\\LOCAL', 'RPAQA', 'ProjectCreation', None, None, project_path)"
   ]
  },
  {
   "cell_type": "markdown",
   "metadata": {},
   "source": [
    "## Create Controllers"
   ]
  },
  {
   "cell_type": "code",
   "execution_count": 12,
   "metadata": {},
   "outputs": [],
   "source": [
    "# this method gets the context class name\n",
    "def GetContext(file_path):\n",
    "    \n",
    "    # the file path should be the path to where the context class was created    \n",
    "    f = open(file_path, \"r\")\n",
    "\n",
    "    context_name = None\n",
    "    \n",
    "    for line in f.readlines():\n",
    "\n",
    "        if '_context' in str(line) and 'private readonly' in str(line):\n",
    "            \n",
    "            line = line.replace('  ', '')\n",
    "            context_name = line.split(' ')[2]\n",
    "            \n",
    "    return context_name"
   ]
  },
  {
   "cell_type": "code",
   "execution_count": 13,
   "metadata": {},
   "outputs": [],
   "source": [
    "# this method gets the model class and returns the class name, attribute as well as the namespace\n",
    "def GetModel(file_path):\n",
    "\n",
    "    # file path should depict the path to the Model folder\n",
    "    f = open(file_path, \"r\")\n",
    "\n",
    "    class_name = None\n",
    "    attributes = []\n",
    "    namespace = None\n",
    "\n",
    "    # for each line in the model class, extract the class name, the attributes and the namespace\n",
    "    for line in f.readlines():\n",
    "\n",
    "        if 'namespace' in str(line):\n",
    "\n",
    "            namespace = line.split(' ')[1].split('.')[0]\n",
    "\n",
    "        if 'public' in str(line):\n",
    "\n",
    "            line = line.replace('  ', '')\n",
    "\n",
    "            split_line = line.split(' ')\n",
    "\n",
    "            if split_line[2] == 'class':\n",
    "\n",
    "                class_name = split_line[3].replace('\\n','')\n",
    "\n",
    "            else:\n",
    "\n",
    "                attributes.append(split_line[2])\n",
    "                                                \n",
    "    return class_name, attributes, namespace"
   ]
  },
  {
   "cell_type": "code",
   "execution_count": 14,
   "metadata": {},
   "outputs": [],
   "source": [
    "# this method compiles the controller class from the controller template\n",
    "def CompileControllerTemplate(model, attributes, file_path, template_file_path, namespace, context_name, id):\n",
    "\n",
    "    file = open(file_path, \"w+\")\n",
    "\n",
    "    template_file = open(template_file_path, \"r+\")\n",
    "\n",
    "    template = template_file.read()\n",
    "\n",
    "    template = template.replace('FillNamespace', namespace)\n",
    "    template = template.replace('FillContext', context_name)\n",
    "    template = template.replace('FillModel', model)\n",
    "    template = template.replace('fillModel', model[0].lower() + model[1:])\n",
    "    template = template.replace('FillId', id)\n",
    "\n",
    "    file.writelines(template)\n",
    "\n",
    "    file.close()\n",
    "    template_file.close()"
   ]
  },
  {
   "cell_type": "code",
   "execution_count": 15,
   "metadata": {},
   "outputs": [],
   "source": [
    "# this method creates the controllers\n",
    "def CreateControllers(solution_path):\n",
    "\n",
    "    # initialise the model_file_path\n",
    "    model_file_path = r\"{}\\Models\".format(solution_path)\n",
    "    \n",
    "    # for each model found in the model file, get the model info and use it to create the controller\n",
    "    for file in os.listdir(model_file_path):\n",
    "\n",
    "        if file != 'ErrorViewModel.cs':\n",
    "\n",
    "            file_path = \"{}\\..\\Data\".format(model_file_path)\n",
    "\n",
    "            for context in os.listdir(file_path):\n",
    "\n",
    "                context_name = context.replace('.cs','')\n",
    "\n",
    "            file_path = '{}\\{}'.format(model_file_path, file)\n",
    "\n",
    "            model_result = GetModel(file_path)\n",
    "\n",
    "            model = model_result[0]\n",
    "            attributes = model_result[1]\n",
    "            id = attributes[0]\n",
    "            namespace = model_result[2]            \n",
    "            path = r'{}\\Controllers'.format(solution_path)\n",
    "            file_path = r\"{}\\{}Controller.cs\".format(path, model)\n",
    "                        \n",
    "            template_file_path = r\"{}\\APIControllerTemplate.cs\".format(start_directory)\n",
    "\n",
    "            if os.path.exists(path) == False:\n",
    "\n",
    "                os.mkdir(path)\n",
    "\n",
    "            CompileControllerTemplate(model, attributes, file_path, template_file_path, namespace, context_name, id)"
   ]
  },
  {
   "cell_type": "code",
   "execution_count": 16,
   "metadata": {},
   "outputs": [],
   "source": [
    "solution_path = r\"{}\\{}\".format(project_path, project_name)\n",
    "\n",
    "CreateControllers(solution_path)"
   ]
  },
  {
   "cell_type": "code",
   "execution_count": 17,
   "metadata": {},
   "outputs": [
    {
     "name": "stdout",
     "output_type": "stream",
     "text": [
      "60.210994\n"
     ]
    }
   ],
   "source": [
    "# calculate the duration\n",
    "\n",
    "end_time = datetime.now()\n",
    "\n",
    "duration = end_time - start_time\n",
    "\n",
    "print(duration.total_seconds())"
   ]
  }
 ],
 "metadata": {
  "kernelspec": {
   "display_name": "Python 3",
   "language": "python",
   "name": "python3"
  },
  "language_info": {
   "codemirror_mode": {
    "name": "ipython",
    "version": 3
   },
   "file_extension": ".py",
   "mimetype": "text/x-python",
   "name": "python",
   "nbconvert_exporter": "python",
   "pygments_lexer": "ipython3",
   "version": "3.6.4"
  }
 },
 "nbformat": 4,
 "nbformat_minor": 2
}
