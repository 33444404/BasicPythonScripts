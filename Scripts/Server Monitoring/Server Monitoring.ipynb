{
 "cells": [
  {
   "cell_type": "markdown",
   "metadata": {},
   "source": [
    "# Server Monitoring\n",
    "\n",
    "The script below provides guidance on how to conduct server monitoring using CSVs as a data source or using a database as a data source"
   ]
  },
  {
   "cell_type": "markdown",
   "metadata": {},
   "source": [
    "## CSV Integration"
   ]
  },
  {
   "cell_type": "code",
   "execution_count": null,
   "metadata": {},
   "outputs": [],
   "source": [
    "from datetime import datetime\n",
    "from subprocess import call\n",
    "\n",
    "import pandas as pd\n",
    "import psutil\n",
    "import numpy as np"
   ]
  },
  {
   "cell_type": "code",
   "execution_count": null,
   "metadata": {},
   "outputs": [],
   "source": [
    "def RecordMetrics():\n",
    "\n",
    "    drps = psutil.disk_partitions()\n",
    "    drives = [dp.device for dp in drps if dp.fstype == 'NTFS']\n",
    "    \n",
    "    df_csv = pd.read_csv('ServerMonitoring.csv')\n",
    "    \n",
    "    history_id = max(df_csv['HistoryID']) + 1    \n",
    "\n",
    "    df = pd.DataFrame(\n",
    "        {\n",
    "            'CPU': [psutil.cpu_percent()],\n",
    "            'VirtualMemory': [psutil.virtual_memory()[2]],\n",
    "            'HistoryID' : [history_id],\n",
    "            'LastBootedAt' : datetime.fromtimestamp(psutil.boot_time()).strftime('%Y-%m-%d %H:%M:%S')\n",
    "            \n",
    "        })\n",
    "\n",
    "    for drive in drives:\n",
    "        df['{}_DriveUsage'.format(drive.replace(\":\\\\\",\"\"))] = psutil.disk_usage(drive)[3]\n",
    "\n",
    "    df['LoadDate'] = datetime.now()\n",
    "    \n",
    "    df = df.append(df_csv)\n",
    "    df.to_csv('ServerMonitoring.csv', index=False)"
   ]
  },
  {
   "cell_type": "markdown",
   "metadata": {},
   "source": [
    "## Database Integration"
   ]
  },
  {
   "cell_type": "code",
   "execution_count": null,
   "metadata": {},
   "outputs": [],
   "source": [
    "from sqlalchemy import create_engine, event\n",
    "from datetime import datetime\n",
    "from subprocess import call\n",
    "\n",
    "import urllib\n",
    "import pandas as pd\n",
    "import psutil\n",
    "import pyodbc\n",
    "import pymsteams\n",
    "import numpy as np\n",
    "\n",
    "driver = '{SQL Server}'\n",
    "server = ''\n",
    "user = ''\n",
    "password = ''\n",
    "database = ''\n",
    "table = 'ServerMonitoring'\n",
    "\n",
    "params = urllib.parse.quote_plus(r'DRIVER={};SERVER={};DATABASE={};UID={};PWD={}'.format(driver, server, database, user, password))\n",
    "conn_str = 'mssql+pyodbc:///?odbc_connect={}'.format(params)\n",
    "engine = create_engine(conn_str)"
   ]
  },
  {
   "cell_type": "markdown",
   "metadata": {},
   "source": [
    "### Write Metrics to Database"
   ]
  },
  {
   "cell_type": "code",
   "execution_count": null,
   "metadata": {},
   "outputs": [],
   "source": [
    "def RecordMetrics():\n",
    "\n",
    "    drps = psutil.disk_partitions()\n",
    "    drives = [dp.device for dp in drps if dp.fstype == 'NTFS']\n",
    "\n",
    "    df = pd.DataFrame(\n",
    "        {\n",
    "            'CPU': [psutil.cpu_percent()],\n",
    "            'VirtualMemory': [psutil.virtual_memory()[2]],\n",
    "            'LastBootedAt' : datetime.fromtimestamp(psutil.boot_time()).strftime('%Y-%m-%d %H:%M:%S')\n",
    "        })\n",
    "\n",
    "    for drive in drives:\n",
    "        df['{}_DriveUsage'.format(drive.replace(\":\\\\\",\"\"))] = psutil.disk_usage(drive)[3]\n",
    "\n",
    "    df['LoadDate'] = datetime.now()\n",
    "    \n",
    "    #if_exists=\"replace\" if the table does not yet exist, then add HistoryID (or ID) as the auto-incremented primary key\n",
    "    df.to_sql(table, engine, if_exists=\"append\", index=False)"
   ]
  },
  {
   "cell_type": "markdown",
   "metadata": {},
   "source": [
    "### # Monitor CPU Average"
   ]
  },
  {
   "cell_type": "code",
   "execution_count": null,
   "metadata": {},
   "outputs": [],
   "source": [
    "def CheckCPU():\n",
    "    \n",
    "    df_CPU = df.read_sql('SELECT TOP(5) CPU FROM dbo.ServerMonitoring ORDER BY LoadDate DESC', conn_str)\n",
    "    \n",
    "    avg_CPU = df_CPU['CPU'].mean()\n",
    "    \n",
    "    # if the CPU Average is above 90%\n",
    "    if avg_CPU > 90:\n",
    "        \n",
    "        print('High CPU Usage Detected: {}%'.format(round(avg_CPU,2)))        "
   ]
  },
  {
   "cell_type": "markdown",
   "metadata": {},
   "source": [
    "### Monitor Boot Time"
   ]
  },
  {
   "cell_type": "code",
   "execution_count": null,
   "metadata": {},
   "outputs": [],
   "source": [
    "def CheckBootTime():\n",
    "    \n",
    "    df_CPU = df.read_sql('SELECT TOP(1) LastBootedAt FROM dbo.ServerMonitoring ORDER BY LoadDate DESC', conn_str)\n",
    "    \n",
    "    current_timestamp = datetime.now()\n",
    "    \n",
    "    up_time = current_timestamp - boot_time\n",
    "    \n",
    "    days = str(up_time).split(\" days, \")[0]\n",
    "    time = str(up_time).split(\" days, \")[1]\n",
    "\n",
    "    hours = time.split(':')[0]\n",
    "    mins = time.split(':')[1]\n",
    "    secs = time.split(':')[2]\n",
    "\n",
    "    # if PC last rebooted in the last 9 hours\n",
    "    if days == 0 and hours < 10:\n",
    "\n",
    "        print('Server was rebooted {} hours and {} minutes ago'.format(hours, minutes))"
   ]
  },
  {
   "cell_type": "markdown",
   "metadata": {},
   "source": [
    "### Executing Metrics Collection"
   ]
  },
  {
   "cell_type": "code",
   "execution_count": null,
   "metadata": {},
   "outputs": [],
   "source": [
    "RecordMetrics()"
   ]
  },
  {
   "cell_type": "markdown",
   "metadata": {},
   "source": [
    "### Execute Monitoring"
   ]
  },
  {
   "cell_type": "code",
   "execution_count": null,
   "metadata": {},
   "outputs": [],
   "source": [
    "CheckCPU()\n",
    "CheckBootTime()"
   ]
  }
 ],
 "metadata": {
  "kernelspec": {
   "display_name": "Python 3",
   "language": "python",
   "name": "python3"
  },
  "language_info": {
   "codemirror_mode": {
    "name": "ipython",
    "version": 3
   },
   "file_extension": ".py",
   "mimetype": "text/x-python",
   "name": "python",
   "nbconvert_exporter": "python",
   "pygments_lexer": "ipython3",
   "version": "3.6.4"
  }
 },
 "nbformat": 4,
 "nbformat_minor": 2
}
