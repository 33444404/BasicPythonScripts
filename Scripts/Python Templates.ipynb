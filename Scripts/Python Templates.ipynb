{
 "cells": [
  {
   "cell_type": "markdown",
   "metadata": {},
   "source": [
    "# Basic Python Structure and Syntax"
   ]
  },
  {
   "cell_type": "markdown",
   "metadata": {},
   "source": [
    "## Loops\n",
    "\n",
    "It is important to note that Python does not have a case or switch statement. The closest solution would be to make use of if and else if statements\n",
    "\n",
    "Types of control statements:\n",
    "- Continue\n",
    "- Break\n",
    "- Pass"
   ]
  },
  {
   "cell_type": "markdown",
   "metadata": {},
   "source": [
    "### If, else if, else Statement"
   ]
  },
  {
   "cell_type": "code",
   "execution_count": 8,
   "metadata": {},
   "outputs": [
    {
     "name": "stdout",
     "output_type": "stream",
     "text": [
      "Truth be told\n"
     ]
    }
   ],
   "source": [
    "bool_value = True \n",
    "int_value = 1\n",
    "\n",
    "if bool_value and int_value == 1:\n",
    "    print('Truth be told')\n",
    "    \n",
    "elif bool_value and int_value == 0:\n",
    "    print('Boolean truth be told')\n",
    "    \n",
    "elif not bool_value and int_value == 1:\n",
    "    print('Integer truth be told')\n",
    "    \n",
    "else:\n",
    "    print('No truth be told')"
   ]
  },
  {
   "cell_type": "markdown",
   "metadata": {},
   "source": [
    "### While loop"
   ]
  },
  {
   "cell_type": "code",
   "execution_count": 31,
   "metadata": {},
   "outputs": [
    {
     "name": "stdout",
     "output_type": "stream",
     "text": [
      "Current variable value : 9\n",
      "Current variable value : 8\n",
      "Current variable value : 7\n",
      "Current variable value : 6\n",
      "Current variable value : 5\n",
      "Current variable value : 4\n",
      "Current variable value : 3\n",
      "Current variable value : 2\n",
      "Current variable value : 1\n",
      "Current variable value : 0\n",
      "Good bye!\n"
     ]
    }
   ],
   "source": [
    "var = 10                    \n",
    "while var != 0:              \n",
    "    var-=1\n",
    "    print('Current variable value :', var)\n",
    "print(\"Good bye!\")"
   ]
  },
  {
   "cell_type": "markdown",
   "metadata": {},
   "source": [
    "### For loop\n",
    "\n",
    "Essentially, this acts as a foreach in loop"
   ]
  },
  {
   "cell_type": "code",
   "execution_count": 12,
   "metadata": {},
   "outputs": [
    {
     "name": "stdout",
     "output_type": "stream",
     "text": [
      "1\n",
      "2\n",
      "3\n",
      "4\n",
      "5\n",
      "6\n",
      "7\n",
      "8\n",
      "9\n"
     ]
    }
   ],
   "source": [
    "# Iterates through loop from 1 to 9\n",
    "for number in range(1,10):\n",
    "    print(number)"
   ]
  },
  {
   "cell_type": "code",
   "execution_count": 20,
   "metadata": {},
   "outputs": [
    {
     "name": "stdout",
     "output_type": "stream",
     "text": [
      "[2, 4, 6, 8, 10, 12, 14, 16, 18, 20]\n"
     ]
    }
   ],
   "source": [
    "# Instantiates items as an empty list and adds values\n",
    "even_numbers = [] \n",
    "for number in range(1,21):\n",
    "    if number % 2 == 0:\n",
    "        even_numbers.append(number)\n",
    "        \n",
    "print(even_numbers)"
   ]
  },
  {
   "cell_type": "markdown",
   "metadata": {},
   "source": [
    "### Examples of using control statements"
   ]
  },
  {
   "cell_type": "markdown",
   "metadata": {},
   "source": [
    "#### Pass"
   ]
  },
  {
   "cell_type": "code",
   "execution_count": 25,
   "metadata": {},
   "outputs": [
    {
     "name": "stdout",
     "output_type": "stream",
     "text": [
      "Current Letter : P\n",
      "Current Letter : y\n",
      "Current Letter : t\n",
      "This is pass block\n",
      "Current Letter : h\n",
      "Current Letter : o\n",
      "Current Letter : n\n"
     ]
    }
   ],
   "source": [
    "for letter in 'Python': \n",
    "    if letter == 'h':\n",
    "        pass\n",
    "        print('This is pass block')\n",
    "    print('Current Letter :', letter)"
   ]
  },
  {
   "cell_type": "markdown",
   "metadata": {},
   "source": [
    "#### Break"
   ]
  },
  {
   "cell_type": "code",
   "execution_count": 28,
   "metadata": {},
   "outputs": [
    {
     "name": "stdout",
     "output_type": "stream",
     "text": [
      "Current Letter : P\n",
      "Current Letter : y\n",
      "Current Letter : t\n"
     ]
    }
   ],
   "source": [
    "for letter in 'Python':\n",
    "    if letter == 'h':\n",
    "        break\n",
    "    print('Current Letter :', letter)"
   ]
  },
  {
   "cell_type": "markdown",
   "metadata": {},
   "source": [
    "#### Continue"
   ]
  },
  {
   "cell_type": "code",
   "execution_count": 26,
   "metadata": {},
   "outputs": [
    {
     "name": "stdout",
     "output_type": "stream",
     "text": [
      "Current Letter : P\n",
      "Current Letter : y\n",
      "Current Letter : t\n",
      "Current Letter : o\n",
      "Current Letter : n\n"
     ]
    }
   ],
   "source": [
    "for letter in 'Python':\n",
    "    if letter == 'h':\n",
    "        continue\n",
    "    print('Current Letter :', letter)"
   ]
  },
  {
   "cell_type": "markdown",
   "metadata": {},
   "source": [
    "### String Formatting"
   ]
  },
  {
   "cell_type": "code",
   "execution_count": 32,
   "metadata": {},
   "outputs": [
    {
     "name": "stdout",
     "output_type": "stream",
     "text": [
      "At index 2: 6\n"
     ]
    }
   ],
   "source": [
    "# String.format trickery\n",
    "print('At index 2: {}'.format(even_numbers[2]))"
   ]
  },
  {
   "cell_type": "code",
   "execution_count": 33,
   "metadata": {},
   "outputs": [
    {
     "name": "stdout",
     "output_type": "stream",
     "text": [
      "even_numbers Type: <class 'list'>;\n",
      "even_number[2] Type: <class 'int'>\n"
     ]
    }
   ],
   "source": [
    "print('even_numbers Type: {1};\\neven_number[2] Type: {0}'.format(type(even_numbers[2]),type(even_numbers)))"
   ]
  },
  {
   "cell_type": "code",
   "execution_count": 38,
   "metadata": {},
   "outputs": [
    {
     "name": "stdout",
     "output_type": "stream",
     "text": [
      "Alison (F) is 24 years old.\n"
     ]
    }
   ],
   "source": [
    "name = \"Person\"\n",
    "gender = 'F'\n",
    "age = 24\n",
    "\n",
    "print(\"%s (%c) is %d years old.\" % (name, gender, age))"
   ]
  },
  {
   "cell_type": "code",
   "execution_count": 2,
   "metadata": {},
   "outputs": [
    {
     "name": "stdout",
     "output_type": "stream",
     "text": [
      "A list: ['Person', 'Other Person', '-', 1, True]\n"
     ]
    }
   ],
   "source": [
    "mylist = [\"Person\", 'Other Person', '-', 1, True]\n",
    "print(\"A list: %s\" % mylist)"
   ]
  },
  {
   "cell_type": "markdown",
   "metadata": {},
   "source": [
    "## Method Creation"
   ]
  },
  {
   "cell_type": "markdown",
   "metadata": {},
   "source": [
    "### Function"
   ]
  },
  {
   "cell_type": "code",
   "execution_count": 56,
   "metadata": {},
   "outputs": [
    {
     "data": {
      "text/plain": [
       "False"
      ]
     },
     "execution_count": 56,
     "metadata": {},
     "output_type": "execute_result"
    }
   ],
   "source": [
    "# define method\n",
    "def isTrue(value):\n",
    "    if value:\n",
    "        return True\n",
    "    else:\n",
    "        return False\n",
    "    \n",
    "# method calls\n",
    "isTrue('this is not a boolean value but will return true')\n",
    "\n",
    "isTrue(False)"
   ]
  },
  {
   "cell_type": "markdown",
   "metadata": {},
   "source": [
    "### Procedure"
   ]
  },
  {
   "cell_type": "code",
   "execution_count": 1,
   "metadata": {},
   "outputs": [
    {
     "name": "stdout",
     "output_type": "stream",
     "text": [
      "Someone is a pretty cool person\n"
     ]
    }
   ],
   "source": [
    "# define method\n",
    "def printValue(value):\n",
    "    print(value)\n",
    "\n",
    "# method call   \n",
    "printValue('Someone is a pretty cool person')"
   ]
  },
  {
   "cell_type": "markdown",
   "metadata": {},
   "source": [
    "# Get Duration "
   ]
  },
  {
   "cell_type": "code",
   "execution_count": 6,
   "metadata": {},
   "outputs": [
    {
     "name": "stdout",
     "output_type": "stream",
     "text": [
      "0:00:00\n"
     ]
    }
   ],
   "source": [
    "from datetime import datetime\n",
    "\n",
    "start_time = datetime.now()\n",
    "end_time = datetime.now()\n",
    "\n",
    "duration = end_time - start_time\n",
    "\n",
    "hours = str(duration).split(':')[0]\n",
    "mins = str(duration).split(':')[1]\n",
    "seconds = str(duration).split(':')[2]\n",
    "\n",
    "print(duration)"
   ]
  },
  {
   "cell_type": "code",
   "execution_count": null,
   "metadata": {},
   "outputs": [],
   "source": []
  }
 ],
 "metadata": {
  "kernelspec": {
   "display_name": "Python 3",
   "language": "python",
   "name": "python3"
  },
  "language_info": {
   "codemirror_mode": {
    "name": "ipython",
    "version": 3
   },
   "file_extension": ".py",
   "mimetype": "text/x-python",
   "name": "python",
   "nbconvert_exporter": "python",
   "pygments_lexer": "ipython3",
   "version": "3.6.4"
  }
 },
 "nbformat": 4,
 "nbformat_minor": 2
}
