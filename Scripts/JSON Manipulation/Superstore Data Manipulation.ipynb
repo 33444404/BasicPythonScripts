{
 "cells": [
  {
   "cell_type": "markdown",
   "metadata": {},
   "source": [
    "# Data Manipulation\n",
    "\n",
    "This data is read from different encoded CSVs that need to be decoded and written to JSON files.\n",
    "\n",
    "Most common encoding types: \n",
    "- latin\n",
    "- utf-8\n",
    "- ISO-8859-1\n",
    "\n",
    "Convert to JSON in following ways:\n",
    "- index\n",
    "- column\n",
    "- record"
   ]
  },
  {
   "cell_type": "code",
   "execution_count": 2,
   "metadata": {},
   "outputs": [],
   "source": [
    "import pandas as pd\n",
    "import json"
   ]
  },
  {
   "cell_type": "code",
   "execution_count": 3,
   "metadata": {},
   "outputs": [],
   "source": [
    "df_orders = pd.read_csv(r\"01 Provided Files\\Global Superstore Orders 2016.csv\", encoding=\"ISO-8859-1\")\n",
    "df_returns = pd.read_csv(r\"01 Provided Files\\Global Superstore Returns 2016.csv\", encoding=\"ISO-8859-1\")\n",
    "df_people = pd.read_csv(r\"01 Provided Files\\Global Superstore People 2016.csv\", encoding=\"ISO-8859-1\")"
   ]
  },
  {
   "cell_type": "code",
   "execution_count": 12,
   "metadata": {},
   "outputs": [],
   "source": [
    "df_orders.to_json('01 Provided Files\\Orders.json',orient='index')"
   ]
  },
  {
   "cell_type": "code",
   "execution_count": 13,
   "metadata": {},
   "outputs": [],
   "source": [
    "df_returns.to_json('01 Provided Files\\Returns.json',orient='index')"
   ]
  },
  {
   "cell_type": "code",
   "execution_count": 14,
   "metadata": {},
   "outputs": [],
   "source": [
    "df_returns.to_json('01 Provided Files\\Regional Managers.json',orient='index')"
   ]
  }
 ],
 "metadata": {
  "kernelspec": {
   "display_name": "Python 3",
   "language": "python",
   "name": "python3"
  },
  "language_info": {
   "codemirror_mode": {
    "name": "ipython",
    "version": 3
   },
   "file_extension": ".py",
   "mimetype": "text/x-python",
   "name": "python",
   "nbconvert_exporter": "python",
   "pygments_lexer": "ipython3",
   "version": "3.6.4"
  }
 },
 "nbformat": 4,
 "nbformat_minor": 2
}
