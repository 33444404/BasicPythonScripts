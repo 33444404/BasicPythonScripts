{
 "cells": [
  {
   "cell_type": "markdown",
   "metadata": {},
   "source": [
    "#  YouTube Playlist Monitoring"
   ]
  },
  {
   "cell_type": "markdown",
   "metadata": {},
   "source": [
    "<!-- wp:paragraph -->\n",
    "<p>There are many different workflow and automation suites/platforms (some of which include IFTTT, Power Automate and Tonkean) available out there that allow users to interact with their YouTube connector. Most of these workflows classify the functions within the connectors as either a <strong>Trigger </strong>or an <strong>Action</strong>. A trigger would be seen as an event that \"kicks off\" the workflow/process, whereas an action would be an event (or a set of events) that should be executed once the workflow/process has been triggered. </p>\n",
    "<!-- /wp:paragraph -->\n",
    "\n",
    "<!-- wp:paragraph -->\n",
    "<p>Many of these workflows make use of APIs to get their triggers and actions functioning. There is one small problem though... They don't always have the predefined triggers or actions that we might be looking to use. Platforms like IFTTT and Power Automate do not have a \"When an item is added to a Playlist\" trigger. Not a train smash though... In this post, we work through how to monitor a YouTube playlist for the addition of new items using Python.</p>\n",
    "<!-- /wp:paragraph -->"
   ]
  },
  {
   "cell_type": "markdown",
   "metadata": {},
   "source": [
    "## Install Libraries"
   ]
  },
  {
   "cell_type": "code",
   "execution_count": null,
   "metadata": {},
   "outputs": [],
   "source": [
    "!pip install google-api-python-client\n",
    "!pip install google_auth_oauthlib"
   ]
  },
  {
   "cell_type": "markdown",
   "metadata": {},
   "source": [
    "## Import Libraries"
   ]
  },
  {
   "cell_type": "code",
   "execution_count": null,
   "metadata": {},
   "outputs": [],
   "source": [
    "from googleapiclient.discovery import build\n",
    "from googleapiclient.errors import HttpError\n",
    "from oauth2client.tools import argparser\n",
    "from datetime import datetime\n",
    "\n",
    "import pandas as pd\n",
    "import numpy as np\n",
    "import requests\n",
    "import json"
   ]
  },
  {
   "cell_type": "markdown",
   "metadata": {},
   "source": [
    "## Gather Variable Values"
   ]
  },
  {
   "cell_type": "code",
   "execution_count": null,
   "metadata": {},
   "outputs": [],
   "source": [
    "DEVELOPER_KEY = '<insert key>'\n",
    "YOUTUBE_API_SERVICE_NAME = 'youtube'\n",
    "YOUTUBE_API_VERSION = 'v3'\n",
    "\n",
    "playlist_id = '<insert id>'"
   ]
  },
  {
   "cell_type": "markdown",
   "metadata": {},
   "source": [
    "## Query Playlist Items"
   ]
  },
  {
   "cell_type": "code",
   "execution_count": null,
   "metadata": {},
   "outputs": [],
   "source": [
    "# Get all items in specified playlist\n",
    "def get_playlist_items(page_token):\n",
    "    # Auth with YouTube service\n",
    "    youtube = build(YOUTUBE_API_SERVICE_NAME, YOUTUBE_API_VERSION,\n",
    "    developerKey=DEVELOPER_KEY)\n",
    "\n",
    "    # Call the playlistItems.list method to retrieve results matching the specified query term.\n",
    "    request = youtube.playlistItems().list(\n",
    "        part=\"snippet,contentDetails\",\n",
    "        pageToken=page_token,\n",
    "        maxResults=50,\n",
    "        playlistId=playlist_id\n",
    "    )\n",
    "    response = request.execute()\n",
    "    \n",
    "    return response"
   ]
  },
  {
   "cell_type": "markdown",
   "metadata": {},
   "source": [
    "## Process New Items"
   ]
  },
  {
   "cell_type": "code",
   "execution_count": null,
   "metadata": {},
   "outputs": [],
   "source": [
    "# process any items that were not found in the previous set of results\n",
    "def process_new(df_old, df_new):\n",
    "    \n",
    "    df_diff = df_new.set_index('title').drop(df_old['title'], errors='ignore').reset_index(drop=False)\n",
    "    \n",
    "    print(len(df_diff))\n",
    "    \n",
    "    for index, element in df_diff.iterrows():\n",
    "    \n",
    "        print(\"New Item Added: \" + str(element['title']).encode('utf-8'))"
   ]
  },
  {
   "cell_type": "markdown",
   "metadata": {},
   "source": [
    "## Main Method Snippet"
   ]
  },
  {
   "cell_type": "code",
   "execution_count": null,
   "metadata": {},
   "outputs": [],
   "source": [
    "isEnd = False\n",
    "page_token = None\n",
    "df = pd.DataFrame() # instantiate blank dataframe\n",
    "df_history = pd.read_excel('items.xlsx', headers=False) # read history before querying new results so that the new records may be identified\n",
    "\n",
    "while not isEnd:\n",
    "\n",
    "    playlist_items = get_playlist_items(page_token)\n",
    "    \n",
    "    current_count = playlist_items['pageInfo']['totalResults']\n",
    "    \n",
    "    # if there is a page token, use it for the next call or assign it back to None\n",
    "    if 'nextPageToken' in playlist_items.keys():\n",
    "        \n",
    "        page_token = playlist_items['nextPageToken']\n",
    "                            \n",
    "    else:\n",
    "        \n",
    "        isEnd = True\n",
    "        \n",
    "        page_token = None\n",
    "    \n",
    "    # write playlist item information to the dataframe\n",
    "    for item in playlist_items['items']:\n",
    "\n",
    "        temp_df = pd.DataFrame.from_dict(item)\n",
    "        temp_df = temp_df[['snippet']].transpose()\n",
    "\n",
    "        df = df.append(temp_df)\n",
    "            \n",
    "df.to_excel('items.xlsx') # write the dataframe to excel\n",
    "\n",
    "process_new(df_history, df) # process the new items"
   ]
  }
 ],
 "metadata": {
  "kernelspec": {
   "display_name": "Python 3",
   "language": "python",
   "name": "python3"
  },
  "language_info": {
   "codemirror_mode": {
    "name": "ipython",
    "version": 3
   },
   "file_extension": ".py",
   "mimetype": "text/x-python",
   "name": "python",
   "nbconvert_exporter": "python",
   "pygments_lexer": "ipython3",
   "version": "3.8.5"
  }
 },
 "nbformat": 4,
 "nbformat_minor": 4
}
