{
 "cells": [
  {
   "cell_type": "markdown",
   "metadata": {},
   "source": [
    "# Working with panda data frames"
   ]
  },
  {
   "cell_type": "markdown",
   "metadata": {},
   "source": [
    "If Pandas have not yet been installed, uncomment the line below:"
   ]
  },
  {
   "cell_type": "code",
   "execution_count": 1,
   "metadata": {},
   "outputs": [],
   "source": [
    "#!pip install pandas"
   ]
  },
  {
   "cell_type": "code",
   "execution_count": 2,
   "metadata": {},
   "outputs": [],
   "source": [
    "import pandas as pd"
   ]
  },
  {
   "cell_type": "markdown",
   "metadata": {},
   "source": [
    "## Create dataframe and populate from lists"
   ]
  },
  {
   "cell_type": "code",
   "execution_count": 3,
   "metadata": {},
   "outputs": [],
   "source": [
    "colour = ['blue','pink','green','red','purple']\n",
    "number = [12,32,52,72,92]\n",
    "object = ['Calculator','Play Station','Guitar','Toy Car','Belt']"
   ]
  },
  {
   "cell_type": "code",
   "execution_count": 4,
   "metadata": {},
   "outputs": [
    {
     "data": {
      "text/html": [
       "<div>\n",
       "<style scoped>\n",
       "    .dataframe tbody tr th:only-of-type {\n",
       "        vertical-align: middle;\n",
       "    }\n",
       "\n",
       "    .dataframe tbody tr th {\n",
       "        vertical-align: top;\n",
       "    }\n",
       "\n",
       "    .dataframe thead th {\n",
       "        text-align: right;\n",
       "    }\n",
       "</style>\n",
       "<table border=\"1\" class=\"dataframe\">\n",
       "  <thead>\n",
       "    <tr style=\"text-align: right;\">\n",
       "      <th></th>\n",
       "      <th>Colour</th>\n",
       "      <th>Number</th>\n",
       "      <th>Object</th>\n",
       "    </tr>\n",
       "  </thead>\n",
       "  <tbody>\n",
       "    <tr>\n",
       "      <th>0</th>\n",
       "      <td>blue</td>\n",
       "      <td>12</td>\n",
       "      <td>Calculator</td>\n",
       "    </tr>\n",
       "    <tr>\n",
       "      <th>1</th>\n",
       "      <td>pink</td>\n",
       "      <td>32</td>\n",
       "      <td>Play Station</td>\n",
       "    </tr>\n",
       "    <tr>\n",
       "      <th>2</th>\n",
       "      <td>green</td>\n",
       "      <td>52</td>\n",
       "      <td>Guitar</td>\n",
       "    </tr>\n",
       "    <tr>\n",
       "      <th>3</th>\n",
       "      <td>red</td>\n",
       "      <td>72</td>\n",
       "      <td>Toy Car</td>\n",
       "    </tr>\n",
       "    <tr>\n",
       "      <th>4</th>\n",
       "      <td>purple</td>\n",
       "      <td>92</td>\n",
       "      <td>Belt</td>\n",
       "    </tr>\n",
       "  </tbody>\n",
       "</table>\n",
       "</div>"
      ],
      "text/plain": [
       "   Colour  Number        Object\n",
       "0    blue      12    Calculator\n",
       "1    pink      32  Play Station\n",
       "2   green      52        Guitar\n",
       "3     red      72       Toy Car\n",
       "4  purple      92          Belt"
      ]
     },
     "execution_count": 4,
     "metadata": {},
     "output_type": "execute_result"
    }
   ],
   "source": [
    "df = pd.DataFrame()\n",
    "\n",
    "df[\"Colour\"] = colour\n",
    "df[\"Number\"] = number\n",
    "df[\"Object\"] = object\n",
    "\n",
    "df"
   ]
  },
  {
   "cell_type": "markdown",
   "metadata": {},
   "source": [
    "## Import data from different sources"
   ]
  },
  {
   "cell_type": "code",
   "execution_count": 5,
   "metadata": {},
   "outputs": [],
   "source": [
    "df_csv = pd.read_csv(r'Files\\Text\\People List.csv')\n",
    "df_excel = pd.read_excel(r'Files\\Text\\People List.xlsx')\n",
    "df_json = pd.read_json(r'Files\\Text\\People List.json')"
   ]
  },
  {
   "cell_type": "code",
   "execution_count": 6,
   "metadata": {},
   "outputs": [
    {
     "data": {
      "text/html": [
       "<div>\n",
       "<style scoped>\n",
       "    .dataframe tbody tr th:only-of-type {\n",
       "        vertical-align: middle;\n",
       "    }\n",
       "\n",
       "    .dataframe tbody tr th {\n",
       "        vertical-align: top;\n",
       "    }\n",
       "\n",
       "    .dataframe thead th {\n",
       "        text-align: right;\n",
       "    }\n",
       "</style>\n",
       "<table border=\"1\" class=\"dataframe\">\n",
       "  <thead>\n",
       "    <tr style=\"text-align: right;\">\n",
       "      <th></th>\n",
       "      <th>Names</th>\n",
       "      <th>Likes</th>\n",
       "      <th>Dislikes</th>\n",
       "      <th>Eye Colour</th>\n",
       "      <th>Hair Colour</th>\n",
       "    </tr>\n",
       "  </thead>\n",
       "  <tbody>\n",
       "    <tr>\n",
       "      <th>0</th>\n",
       "      <td>Channel</td>\n",
       "      <td>Coffee, series</td>\n",
       "      <td>Disorganisation</td>\n",
       "      <td>Blue</td>\n",
       "      <td>Dark brown</td>\n",
       "    </tr>\n",
       "    <tr>\n",
       "      <th>1</th>\n",
       "      <td>Grant</td>\n",
       "      <td>Dad jokes</td>\n",
       "      <td>Being messed around</td>\n",
       "      <td>Blue</td>\n",
       "      <td>Light brown</td>\n",
       "    </tr>\n",
       "    <tr>\n",
       "      <th>2</th>\n",
       "      <td>Tirendra</td>\n",
       "      <td>Avo</td>\n",
       "      <td>Laziness</td>\n",
       "      <td>Brown</td>\n",
       "      <td>Black</td>\n",
       "    </tr>\n",
       "  </tbody>\n",
       "</table>\n",
       "</div>"
      ],
      "text/plain": [
       "      Names           Likes             Dislikes Eye Colour  Hair Colour\n",
       "0   Channel  Coffee, series      Disorganisation       Blue   Dark brown\n",
       "1     Grant       Dad jokes  Being messed around       Blue  Light brown\n",
       "2  Tirendra             Avo             Laziness      Brown        Black"
      ]
     },
     "execution_count": 6,
     "metadata": {},
     "output_type": "execute_result"
    }
   ],
   "source": [
    "df_csv"
   ]
  },
  {
   "cell_type": "code",
   "execution_count": 7,
   "metadata": {},
   "outputs": [
    {
     "data": {
      "text/html": [
       "<div>\n",
       "<style scoped>\n",
       "    .dataframe tbody tr th:only-of-type {\n",
       "        vertical-align: middle;\n",
       "    }\n",
       "\n",
       "    .dataframe tbody tr th {\n",
       "        vertical-align: top;\n",
       "    }\n",
       "\n",
       "    .dataframe thead th {\n",
       "        text-align: right;\n",
       "    }\n",
       "</style>\n",
       "<table border=\"1\" class=\"dataframe\">\n",
       "  <thead>\n",
       "    <tr style=\"text-align: right;\">\n",
       "      <th></th>\n",
       "      <th>Names</th>\n",
       "      <th>Likes</th>\n",
       "      <th>Dislikes</th>\n",
       "      <th>Eye Colour</th>\n",
       "      <th>Hair Colour</th>\n",
       "    </tr>\n",
       "  </thead>\n",
       "  <tbody>\n",
       "    <tr>\n",
       "      <th>0</th>\n",
       "      <td>Alison</td>\n",
       "      <td>Unicorns, popcorn, food, high heels</td>\n",
       "      <td>Kyle</td>\n",
       "      <td>Brown</td>\n",
       "      <td>Blonde</td>\n",
       "    </tr>\n",
       "    <tr>\n",
       "      <th>1</th>\n",
       "      <td>Jireh</td>\n",
       "      <td>Motorbikes, cats</td>\n",
       "      <td>Ant</td>\n",
       "      <td>Blue</td>\n",
       "      <td>Light brown</td>\n",
       "    </tr>\n",
       "    <tr>\n",
       "      <th>2</th>\n",
       "      <td>Jacqui</td>\n",
       "      <td>Ice cream</td>\n",
       "      <td>Avo</td>\n",
       "      <td>Hazel</td>\n",
       "      <td>Light brown</td>\n",
       "    </tr>\n",
       "  </tbody>\n",
       "</table>\n",
       "</div>"
      ],
      "text/plain": [
       "    Names                                Likes Dislikes Eye Colour  \\\n",
       "0  Alison  Unicorns, popcorn, food, high heels     Kyle      Brown   \n",
       "1   Jireh                     Motorbikes, cats      Ant       Blue   \n",
       "2  Jacqui                            Ice cream      Avo      Hazel   \n",
       "\n",
       "   Hair Colour  \n",
       "0       Blonde  \n",
       "1  Light brown  \n",
       "2  Light brown  "
      ]
     },
     "execution_count": 7,
     "metadata": {},
     "output_type": "execute_result"
    }
   ],
   "source": [
    "df_excel"
   ]
  },
  {
   "cell_type": "code",
   "execution_count": 8,
   "metadata": {},
   "outputs": [
    {
     "data": {
      "text/html": [
       "<div>\n",
       "<style scoped>\n",
       "    .dataframe tbody tr th:only-of-type {\n",
       "        vertical-align: middle;\n",
       "    }\n",
       "\n",
       "    .dataframe tbody tr th {\n",
       "        vertical-align: top;\n",
       "    }\n",
       "\n",
       "    .dataframe thead th {\n",
       "        text-align: right;\n",
       "    }\n",
       "</style>\n",
       "<table border=\"1\" class=\"dataframe\">\n",
       "  <thead>\n",
       "    <tr style=\"text-align: right;\">\n",
       "      <th></th>\n",
       "      <th>Dislikes</th>\n",
       "      <th>Eye Colour</th>\n",
       "      <th>Hair Colour</th>\n",
       "      <th>Likes</th>\n",
       "      <th>Names</th>\n",
       "    </tr>\n",
       "  </thead>\n",
       "  <tbody>\n",
       "    <tr>\n",
       "      <th>0</th>\n",
       "      <td>Coding</td>\n",
       "      <td>Brown</td>\n",
       "      <td>Black</td>\n",
       "      <td>Cricket</td>\n",
       "      <td>Zander</td>\n",
       "    </tr>\n",
       "    <tr>\n",
       "      <th>1</th>\n",
       "      <td>Ant</td>\n",
       "      <td>Brown</td>\n",
       "      <td>Blonde</td>\n",
       "      <td>Kids</td>\n",
       "      <td>Gen</td>\n",
       "    </tr>\n",
       "  </tbody>\n",
       "</table>\n",
       "</div>"
      ],
      "text/plain": [
       "  Dislikes Eye Colour Hair Colour    Likes   Names\n",
       "0   Coding      Brown       Black  Cricket  Zander\n",
       "1      Ant      Brown      Blonde     Kids     Gen"
      ]
     },
     "execution_count": 8,
     "metadata": {},
     "output_type": "execute_result"
    }
   ],
   "source": [
    "df_json"
   ]
  },
  {
   "cell_type": "markdown",
   "metadata": {},
   "source": [
    "### Concatenate data frames"
   ]
  },
  {
   "cell_type": "code",
   "execution_count": 9,
   "metadata": {},
   "outputs": [],
   "source": [
    "new_df = pd.concat([df_csv,df_excel,df_json])"
   ]
  },
  {
   "cell_type": "code",
   "execution_count": 10,
   "metadata": {},
   "outputs": [
    {
     "data": {
      "text/html": [
       "<div>\n",
       "<style scoped>\n",
       "    .dataframe tbody tr th:only-of-type {\n",
       "        vertical-align: middle;\n",
       "    }\n",
       "\n",
       "    .dataframe tbody tr th {\n",
       "        vertical-align: top;\n",
       "    }\n",
       "\n",
       "    .dataframe thead th {\n",
       "        text-align: right;\n",
       "    }\n",
       "</style>\n",
       "<table border=\"1\" class=\"dataframe\">\n",
       "  <thead>\n",
       "    <tr style=\"text-align: right;\">\n",
       "      <th></th>\n",
       "      <th>Dislikes</th>\n",
       "      <th>Eye Colour</th>\n",
       "      <th>Hair Colour</th>\n",
       "      <th>Likes</th>\n",
       "      <th>Names</th>\n",
       "    </tr>\n",
       "  </thead>\n",
       "  <tbody>\n",
       "    <tr>\n",
       "      <th>0</th>\n",
       "      <td>Disorganisation</td>\n",
       "      <td>Blue</td>\n",
       "      <td>Dark brown</td>\n",
       "      <td>Coffee, series</td>\n",
       "      <td>Channel</td>\n",
       "    </tr>\n",
       "    <tr>\n",
       "      <th>1</th>\n",
       "      <td>Being messed around</td>\n",
       "      <td>Blue</td>\n",
       "      <td>Light brown</td>\n",
       "      <td>Dad jokes</td>\n",
       "      <td>Grant</td>\n",
       "    </tr>\n",
       "    <tr>\n",
       "      <th>2</th>\n",
       "      <td>Laziness</td>\n",
       "      <td>Brown</td>\n",
       "      <td>Black</td>\n",
       "      <td>Avo</td>\n",
       "      <td>Tirendra</td>\n",
       "    </tr>\n",
       "    <tr>\n",
       "      <th>0</th>\n",
       "      <td>Kyle</td>\n",
       "      <td>Brown</td>\n",
       "      <td>Blonde</td>\n",
       "      <td>Unicorns, popcorn, food, high heels</td>\n",
       "      <td>Alison</td>\n",
       "    </tr>\n",
       "    <tr>\n",
       "      <th>1</th>\n",
       "      <td>Ant</td>\n",
       "      <td>Blue</td>\n",
       "      <td>Light brown</td>\n",
       "      <td>Motorbikes, cats</td>\n",
       "      <td>Jireh</td>\n",
       "    </tr>\n",
       "    <tr>\n",
       "      <th>2</th>\n",
       "      <td>Avo</td>\n",
       "      <td>Hazel</td>\n",
       "      <td>Light brown</td>\n",
       "      <td>Ice cream</td>\n",
       "      <td>Jacqui</td>\n",
       "    </tr>\n",
       "    <tr>\n",
       "      <th>0</th>\n",
       "      <td>Coding</td>\n",
       "      <td>Brown</td>\n",
       "      <td>Black</td>\n",
       "      <td>Cricket</td>\n",
       "      <td>Zander</td>\n",
       "    </tr>\n",
       "    <tr>\n",
       "      <th>1</th>\n",
       "      <td>Ant</td>\n",
       "      <td>Brown</td>\n",
       "      <td>Blonde</td>\n",
       "      <td>Kids</td>\n",
       "      <td>Gen</td>\n",
       "    </tr>\n",
       "  </tbody>\n",
       "</table>\n",
       "</div>"
      ],
      "text/plain": [
       "              Dislikes Eye Colour  Hair Colour  \\\n",
       "0      Disorganisation       Blue   Dark brown   \n",
       "1  Being messed around       Blue  Light brown   \n",
       "2             Laziness      Brown        Black   \n",
       "0                 Kyle      Brown       Blonde   \n",
       "1                  Ant       Blue  Light brown   \n",
       "2                  Avo      Hazel  Light brown   \n",
       "0               Coding      Brown        Black   \n",
       "1                  Ant      Brown       Blonde   \n",
       "\n",
       "                                 Likes     Names  \n",
       "0                       Coffee, series   Channel  \n",
       "1                            Dad jokes     Grant  \n",
       "2                                  Avo  Tirendra  \n",
       "0  Unicorns, popcorn, food, high heels    Alison  \n",
       "1                     Motorbikes, cats     Jireh  \n",
       "2                            Ice cream    Jacqui  \n",
       "0                              Cricket    Zander  \n",
       "1                                 Kids       Gen  "
      ]
     },
     "execution_count": 10,
     "metadata": {},
     "output_type": "execute_result"
    }
   ],
   "source": [
    "new_df"
   ]
  },
  {
   "cell_type": "markdown",
   "metadata": {},
   "source": [
    "### Cool querying functions"
   ]
  },
  {
   "cell_type": "code",
   "execution_count": 11,
   "metadata": {},
   "outputs": [
    {
     "data": {
      "text/html": [
       "<div>\n",
       "<style scoped>\n",
       "    .dataframe tbody tr th:only-of-type {\n",
       "        vertical-align: middle;\n",
       "    }\n",
       "\n",
       "    .dataframe tbody tr th {\n",
       "        vertical-align: top;\n",
       "    }\n",
       "\n",
       "    .dataframe thead th {\n",
       "        text-align: right;\n",
       "    }\n",
       "</style>\n",
       "<table border=\"1\" class=\"dataframe\">\n",
       "  <thead>\n",
       "    <tr style=\"text-align: right;\">\n",
       "      <th></th>\n",
       "      <th>Dislikes</th>\n",
       "      <th>Eye Colour</th>\n",
       "      <th>Hair Colour</th>\n",
       "      <th>Likes</th>\n",
       "      <th>Names</th>\n",
       "    </tr>\n",
       "  </thead>\n",
       "  <tbody>\n",
       "    <tr>\n",
       "      <th>1</th>\n",
       "      <td>Ant</td>\n",
       "      <td>Blue</td>\n",
       "      <td>Light brown</td>\n",
       "      <td>Motorbikes, cats</td>\n",
       "      <td>Jireh</td>\n",
       "    </tr>\n",
       "    <tr>\n",
       "      <th>1</th>\n",
       "      <td>Ant</td>\n",
       "      <td>Brown</td>\n",
       "      <td>Blonde</td>\n",
       "      <td>Kids</td>\n",
       "      <td>Gen</td>\n",
       "    </tr>\n",
       "  </tbody>\n",
       "</table>\n",
       "</div>"
      ],
      "text/plain": [
       "  Dislikes Eye Colour  Hair Colour             Likes  Names\n",
       "1      Ant       Blue  Light brown  Motorbikes, cats  Jireh\n",
       "1      Ant      Brown       Blonde              Kids    Gen"
      ]
     },
     "execution_count": 11,
     "metadata": {},
     "output_type": "execute_result"
    }
   ],
   "source": [
    "new_df[new_df['Dislikes'] == 'Ant']"
   ]
  },
  {
   "cell_type": "code",
   "execution_count": 12,
   "metadata": {},
   "outputs": [
    {
     "name": "stdout",
     "output_type": "stream",
     "text": [
      "2 people don't like Ant\n"
     ]
    }
   ],
   "source": [
    "num_of_peeps = len(new_df[new_df['Dislikes'] == 'Ant'])\n",
    "\n",
    "print(\"{} people don't like Ant\".format(num_of_peeps))"
   ]
  },
  {
   "cell_type": "code",
   "execution_count": 13,
   "metadata": {},
   "outputs": [
    {
     "data": {
      "text/plain": [
       "array(['Dark brown', 'Light brown', 'Black', 'Blonde'], dtype=object)"
      ]
     },
     "execution_count": 13,
     "metadata": {},
     "output_type": "execute_result"
    }
   ],
   "source": [
    "new_df['Hair Colour'].unique()"
   ]
  },
  {
   "cell_type": "markdown",
   "metadata": {},
   "source": [
    "### Write to csv"
   ]
  },
  {
   "cell_type": "code",
   "execution_count": 14,
   "metadata": {},
   "outputs": [],
   "source": [
    "new_df.to_csv(r'Files\\Text\\New People List.csv')"
   ]
  }
 ],
 "metadata": {
  "kernelspec": {
   "display_name": "Python 3",
   "language": "python",
   "name": "python3"
  },
  "language_info": {
   "codemirror_mode": {
    "name": "ipython",
    "version": 3
   },
   "file_extension": ".py",
   "mimetype": "text/x-python",
   "name": "python",
   "nbconvert_exporter": "python",
   "pygments_lexer": "ipython3",
   "version": "3.6.4"
  }
 },
 "nbformat": 4,
 "nbformat_minor": 2
}
