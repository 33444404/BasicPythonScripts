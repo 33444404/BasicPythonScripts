{
 "cells": [
  {
   "cell_type": "markdown",
   "metadata": {},
   "source": [
    "# Import datetime"
   ]
  },
  {
   "cell_type": "code",
   "execution_count": 1,
   "metadata": {},
   "outputs": [],
   "source": [
    "from datetime import datetime"
   ]
  },
  {
   "cell_type": "markdown",
   "metadata": {},
   "source": [
    "## Get the current date and open the relevant file\n",
    "\n",
    "If the file does not exist, the file will be created with the current date."
   ]
  },
  {
   "cell_type": "code",
   "execution_count": 2,
   "metadata": {},
   "outputs": [],
   "source": [
    "timestamp = datetime.now().date().strftime(\"%Y_%m_%d\")\n",
    "\n",
    "file = open(\"{}_log.txt\".format(timestamp), \"a+\")"
   ]
  },
  {
   "cell_type": "markdown",
   "metadata": {},
   "source": [
    "# Log messages to file\n",
    "\n",
    "The try catch is used to demonstrate how different kinds of logging may be done. \n",
    "\n",
    "It is advised that the manner that logging is done is kept standardised in case monitoring or alerting needs to be done on it."
   ]
  },
  {
   "cell_type": "code",
   "execution_count": 3,
   "metadata": {},
   "outputs": [],
   "source": [
    "try:\n",
    "\n",
    "    file.write(\"{}: Info Logged\\n\".format(timestamp)) \n",
    "\n",
    "except Exception as e:\n",
    "    \n",
    "    file.write(\"{0}: Error Logged - {1}\\n\".format(timestamp, e)) \n",
    "\n",
    "finally:\n",
    "    \n",
    "    file.close()"
   ]
  }
 ],
 "metadata": {
  "kernelspec": {
   "display_name": "Python 3",
   "language": "python",
   "name": "python3"
  },
  "language_info": {
   "codemirror_mode": {
    "name": "ipython",
    "version": 3
   },
   "file_extension": ".py",
   "mimetype": "text/x-python",
   "name": "python",
   "nbconvert_exporter": "python",
   "pygments_lexer": "ipython3",
   "version": "3.6.4"
  }
 },
 "nbformat": 4,
 "nbformat_minor": 2
}
