{
 "cells": [
  {
   "cell_type": "markdown",
   "metadata": {},
   "source": [
    "# Using Operating System Dependent Functionality (OS)"
   ]
  },
  {
   "cell_type": "code",
   "execution_count": 2,
   "metadata": {},
   "outputs": [],
   "source": [
    "import os"
   ]
  },
  {
   "cell_type": "markdown",
   "metadata": {},
   "source": [
    "## Get current file directory"
   ]
  },
  {
   "cell_type": "code",
   "execution_count": 3,
   "metadata": {},
   "outputs": [
    {
     "data": {
      "text/plain": [
       "'C:\\\\Users\\\\Jacqui.Muller\\\\Desktop\\\\JM\\\\Python\\\\Project AJ\\\\Scripts'"
      ]
     },
     "execution_count": 3,
     "metadata": {},
     "output_type": "execute_result"
    }
   ],
   "source": [
    "os.getcwd()"
   ]
  },
  {
   "cell_type": "markdown",
   "metadata": {},
   "source": [
    "## Loop through current file directory"
   ]
  },
  {
   "cell_type": "code",
   "execution_count": 10,
   "metadata": {},
   "outputs": [
    {
     "name": "stdout",
     "output_type": "stream",
     "text": [
      ".ipynb_checkpoints\n",
      "Files.ipynb\n",
      "Images\n",
      "Python Templates.ipynb\n"
     ]
    }
   ],
   "source": [
    "for file in os.listdir(os.getcwd()):\n",
    "    print(file)"
   ]
  },
  {
   "cell_type": "markdown",
   "metadata": {},
   "source": [
    "## Loop through images and print file data "
   ]
  },
  {
   "cell_type": "code",
   "execution_count": 11,
   "metadata": {},
   "outputs": [
    {
     "name": "stdout",
     "output_type": "stream",
     "text": [
      "<_io.BufferedReader name='Files\\\\Images\\\\AAEAAQAAAAAAAAJGAAAAJGY4ODBhMDA0LTM4M2UtNDcwNC05MGVhLTg5ZGE0ZjFlMDBkOQ (1).jpg'>\n",
      "<_io.BufferedReader name='Files\\\\Images\\\\artificial-intelligence-neural-networks_shutterstock_788818321.jpg'>\n",
      "<_io.BufferedReader name='Files\\\\Images\\\\blue-snowflake-background-6739-7017-hd-wallpapers.jpg'>\n",
      "<_io.BufferedReader name='Files\\\\Images\\\\digitalart-1536829620010-2870.jpg'>\n",
      "<_io.BufferedReader name='Files\\\\Images\\\\handwriting-human-head-shape-imagination-technology-innovation-artificial-intelligence-at-chalkboard_h7plpruc_thumbnail-full11.png'>\n",
      "<_io.BufferedReader name='Files\\\\Images\\\\IA-02.jpg'>\n",
      "<_io.BufferedReader name='Files\\\\Images\\\\pirate-piracy-malware-ss-1920.jpg'>\n"
     ]
    }
   ],
   "source": [
    "file_path = \"Files\\\\Images\"\n",
    "\n",
    "for file in os.listdir(os.fsencode(file_path)):\n",
    "    with open(file_path + \"\\\\\" + os.fsdecode(file), mode=\"rb\") as file_data: \n",
    "        print(file_data)"
   ]
  },
  {
   "cell_type": "markdown",
   "metadata": {},
   "source": [
    "# Textfiles\n",
    "\n",
    "## Syntax:\n",
    "    \n",
    "    file_object  = open(“filename”, “mode”) where file_object is the variable to add the file object. \n",
    "\n",
    "Including a mode argument is optional because a default value of ‘r’ will be assumed if it is omitted. The ‘r’ value stands for read mode, which is just one of many. \n",
    "\n",
    "The modes are: \n",
    "\n",
    "- ‘r’ – Read mode which is used when the file is only being read \n",
    "- ‘w’ – Write mode which is used to edit and write new information to the file (any existing files with the same name will be erased when this mode is activated) \n",
    "- ‘a’ – Appending mode, which is used to add new data to the end of the file; that is new information is automatically amended to the end \n",
    "- ‘r+’ – Special read and write mode, which is used to handle both actions when working with a file "
   ]
  },
  {
   "cell_type": "markdown",
   "metadata": {},
   "source": [
    "### Create New"
   ]
  },
  {
   "cell_type": "code",
   "execution_count": null,
   "metadata": {},
   "outputs": [],
   "source": [
    "file = open(\"testfile.txt\",\"w\") \n",
    " \n",
    "file.write(\"Hello World”) \n",
    "file.write(\"This is our new text file\") \n",
    "file.write(\"and this is another line.\") \n",
    "file.write(\"Why? Because we can.\") \n",
    " \n",
    "file.close() "
   ]
  },
  {
   "cell_type": "markdown",
   "metadata": {},
   "source": [
    "### Open Existing"
   ]
  },
  {
   "cell_type": "code",
   "execution_count": 30,
   "metadata": {},
   "outputs": [
    {
     "data": {
      "text/plain": [
       "'This textfile contains random information:\\n- Unicorns are real\\n- Pandas are pink\\n- Monkeys are cute\\n- Humans are werid\\n- Blondes are pretty\\n- Alisons are smart\\n- Ponies are soft\\n- Yes are all'"
      ]
     },
     "execution_count": 30,
     "metadata": {},
     "output_type": "execute_result"
    }
   ],
   "source": [
    "file_object = open(\"Files\\Text\\TestFile.txt\",'r+')\n",
    "\n",
    "file_object.read()"
   ]
  },
  {
   "cell_type": "markdown",
   "metadata": {},
   "source": [
    "Essentially, does the same as above but with structure"
   ]
  },
  {
   "cell_type": "code",
   "execution_count": 28,
   "metadata": {},
   "outputs": [
    {
     "name": "stdout",
     "output_type": "stream",
     "text": [
      "This textfile contains random information:\n",
      "\n",
      "- Unicorns are real\n",
      "\n",
      "- Pandas are pink\n",
      "\n",
      "- Monkeys are cute\n",
      "\n",
      "- Humans are werid\n",
      "\n",
      "- Blondes are pretty\n",
      "\n",
      "- Alisons are smart\n",
      "\n",
      "- Ponies are soft\n",
      "\n"
     ]
    }
   ],
   "source": [
    "for line in file_object:\n",
    "    print(line)"
   ]
  },
  {
   "cell_type": "markdown",
   "metadata": {},
   "source": [
    "# Create New Directory"
   ]
  },
  {
   "cell_type": "code",
   "execution_count": null,
   "metadata": {},
   "outputs": [],
   "source": []
  }
 ],
 "metadata": {
  "kernelspec": {
   "display_name": "Python 3",
   "language": "python",
   "name": "python3"
  },
  "language_info": {
   "codemirror_mode": {
    "name": "ipython",
    "version": 3
   },
   "file_extension": ".py",
   "mimetype": "text/x-python",
   "name": "python",
   "nbconvert_exporter": "python",
   "pygments_lexer": "ipython3",
   "version": "3.6.4"
  }
 },
 "nbformat": 4,
 "nbformat_minor": 2
}
