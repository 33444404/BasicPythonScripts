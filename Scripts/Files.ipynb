{
 "cells": [
  {
   "cell_type": "markdown",
   "metadata": {},
   "source": [
    "# Using Operating System Dependent Functionality (OS)"
   ]
  },
  {
   "cell_type": "code",
   "execution_count": null,
   "metadata": {},
   "outputs": [],
   "source": [
    "import os"
   ]
  },
  {
   "cell_type": "markdown",
   "metadata": {},
   "source": [
    "## Get current file directory"
   ]
  },
  {
   "cell_type": "code",
   "execution_count": null,
   "metadata": {},
   "outputs": [],
   "source": [
    "os.getcwd()"
   ]
  },
  {
   "cell_type": "markdown",
   "metadata": {},
   "source": [
    "## Loop through current file directory"
   ]
  },
  {
   "cell_type": "code",
   "execution_count": null,
   "metadata": {},
   "outputs": [],
   "source": [
    "for file in os.listdir(os.getcwd()):\n",
    "    print(file)"
   ]
  },
  {
   "cell_type": "markdown",
   "metadata": {},
   "source": [
    "## Loop through images and print file data "
   ]
  },
  {
   "cell_type": "code",
   "execution_count": null,
   "metadata": {},
   "outputs": [],
   "source": [
    "file_path = \"Files\\\\Images\"\n",
    "\n",
    "for file in os.listdir(os.fsencode(file_path)):\n",
    "    with open(file_path + \"\\\\\" + os.fsdecode(file), mode=\"rb\") as file_data: \n",
    "        print(file_data.name)"
   ]
  },
  {
   "cell_type": "markdown",
   "metadata": {},
   "source": [
    "# Textfiles\n",
    "\n",
    "## Syntax:\n",
    "    \n",
    "    file_object  = open(“filename”, “mode”) where file_object is the variable to add the file object. \n",
    "\n",
    "Including a mode argument is optional because a default value of ‘r’ will be assumed if it is omitted. The ‘r’ value stands for read mode, which is just one of many. \n",
    "\n",
    "The modes are: \n",
    "\n",
    "- ‘r’ – Read mode which is used when the file is only being read \n",
    "- ‘w’ – Write mode which is used to edit and write new information to the file (any existing files with the same name will be erased when this mode is activated) \n",
    "- ‘a’ – Appending mode, which is used to add new data to the end of the file; that is new information is automatically amended to the end \n",
    "- ‘r+’ – Special read and write mode, which is used to handle both actions when working with a file "
   ]
  },
  {
   "cell_type": "markdown",
   "metadata": {},
   "source": [
    "### Create New"
   ]
  },
  {
   "cell_type": "code",
   "execution_count": null,
   "metadata": {},
   "outputs": [],
   "source": [
    "file = open(\"testfile.txt\",\"w\") \n",
    " \n",
    "file.write(\"Hello World\") \n",
    "file.write(\"This is our new text file\") \n",
    "file.write(\"and this is another line.\") \n",
    "file.write(\"Why? Because we can.\") \n",
    " \n",
    "file.close() "
   ]
  },
  {
   "cell_type": "markdown",
   "metadata": {},
   "source": [
    "### Open Existing"
   ]
  },
  {
   "cell_type": "code",
   "execution_count": null,
   "metadata": {},
   "outputs": [],
   "source": [
    "file_object = open(\"Files\\Text\\TestFile.txt\",'r+')\n",
    "\n",
    "file_object.read()"
   ]
  },
  {
   "cell_type": "markdown",
   "metadata": {},
   "source": [
    "Essentially, does the same as above but with structure"
   ]
  },
  {
   "cell_type": "code",
   "execution_count": null,
   "metadata": {},
   "outputs": [],
   "source": [
    "for line in file_object:\n",
    "    print(line)"
   ]
  },
  {
   "cell_type": "markdown",
   "metadata": {},
   "source": [
    "# Create New Directory"
   ]
  },
  {
   "cell_type": "code",
   "execution_count": null,
   "metadata": {},
   "outputs": [],
   "source": [
    "import os\n",
    "\n",
    "# single directory\n",
    "path = \"/new_dir\"\n",
    "\n",
    "# with subdirectory\n",
    "path = \"/new_dir/new_sub_dir\"\n",
    "\n",
    "try:\n",
    "    \n",
    "    os.mkdir(path)\n",
    "\n",
    "except OSError:\n",
    "\n",
    "    print (\"Creation of the directory %s failed\" % path)\n",
    "\n",
    "else:\n",
    "\n",
    "    print (\"Successfully created the directory %s \" % path)"
   ]
  },
  {
   "cell_type": "markdown",
   "metadata": {},
   "source": [
    "# Delete Directory"
   ]
  },
  {
   "cell_type": "code",
   "execution_count": null,
   "metadata": {},
   "outputs": [],
   "source": [
    "import os\n",
    "\n",
    "# single directory\n",
    "path = \"/new_dir\"\n",
    "\n",
    "try:\n",
    "    \n",
    "    os.rmdir(path)\n",
    "\n",
    "except OSError:\n",
    "\n",
    "    print (\"Creation of the directory %s failed\" % path)\n",
    "\n",
    "else:\n",
    "\n",
    "    print (\"Successfully created the directory %s \" % path)"
   ]
  },
  {
   "cell_type": "markdown",
   "metadata": {},
   "source": [
    "# Using JSON File to Store Sensitive Info\n",
    "(The idea is then to add this file to the gitignore file)\n",
    "\n",
    "### The scriptsettings.json file has the following format:"
   ]
  },
  {
   "cell_type": "raw",
   "metadata": {},
   "source": [
    "{\n",
    "    \"api\":\n",
    "    {\n",
    "        \"companyname\" : \"\",\n",
    "        \"username\" : \"\",\n",
    "        \"password\" : \"\",\n",
    "    },\n",
    "    \"sessiondata\" : \n",
    "    {\n",
    "        \"UserName\": \"\",\n",
    "        \"CompanyName\": \"\",\n",
    "        \"Password\": \"\",\n",
    "    },\n",
    "    \"database\":\n",
    "    {\n",
    "        \"driver\" : \"\",\n",
    "        \"server\" : \"\",\n",
    "        \"user\" : \"\",\n",
    "        \"password\" : \"#\",\n",
    "        \"database\" : \"\"\n",
    "    },\n",
    "    \"teams_webhook\": \"\"\n",
    "}"
   ]
  },
  {
   "cell_type": "code",
   "execution_count": null,
   "metadata": {},
   "outputs": [],
   "source": [
    "import json\n",
    "\n",
    "with open(\"scriptsettings.json\", 'r', encoding='latin') as settingsfile:\n",
    "\n",
    "    settings = json.loads(settingsfile.read())\n",
    "\n",
    "    companyname = settings['api']['companyname']\n",
    "    username = settings['api']['username']\n",
    "    password = settings['api']['password']\n",
    "    sessiondata = settings['sessiondata']\n",
    "\n",
    "    driver = 'ODBC Driver 17 for SQL Server' #settings['database']['driver']\n",
    "    server = settings['database']['server']\n",
    "    user = settings['database']['user']\n",
    "    password = settings['database']['password']\n",
    "    database = settings['database']['database']\n",
    "    \n",
    "    webhook = settings['teams_webhook']"
   ]
  },
  {
   "cell_type": "code",
   "execution_count": null,
   "metadata": {},
   "outputs": [],
   "source": []
  }
 ],
 "metadata": {
  "kernelspec": {
   "display_name": "Python 3",
   "language": "python",
   "name": "python3"
  },
  "language_info": {
   "codemirror_mode": {
    "name": "ipython",
    "version": 3
   },
   "file_extension": ".py",
   "mimetype": "text/x-python",
   "name": "python",
   "nbconvert_exporter": "python",
   "pygments_lexer": "ipython3",
   "version": "3.6.4"
  }
 },
 "nbformat": 4,
 "nbformat_minor": 2
}
