{
 "cells": [
  {
   "cell_type": "markdown",
   "metadata": {},
   "source": [
    "# SQL Server Agent Job Monitoring and Alerting\n",
    "\n",
    "Alerting and Monitoring may be customised as necessary. This solution may be scheduled locally or on the cloud."
   ]
  },
  {
   "cell_type": "markdown",
   "metadata": {},
   "source": [
    "## Using pyodbc"
   ]
  },
  {
   "cell_type": "code",
   "execution_count": null,
   "metadata": {},
   "outputs": [],
   "source": [
    "import pandas as pd\n",
    "import pyodbc\n",
    "from sqlalchemy import create_engine\n",
    "\n",
    "# database settings should be read from some secure config\n",
    "server = ''\n",
    "user = ''\n",
    "password = ''\n",
    "database = 'msdb' # ensure that this is msdb unless a stored procedure is used instead\n",
    "\n",
    "# configure database engine\n",
    "params = urllib.parse.quote_plus(r'DRIVER={};SERVER={};DATABASE={};UID={};PWD={}'.format(driver, server, database, user, password))\n",
    "conn_str = 'mssql+pyodbc:///?odbc_connect={}'.format(params)\n",
    "conn = create_engine(conn_str)\n",
    "\n",
    "# alert on failure\n",
    "def alert(job_name, last_run):\n",
    "    \n",
    "    # add method of alert, ie. MS Teams, Slack, API call, etc.\n",
    "    print('{} failed at {}'.format(job_name, last_run))\n",
    "    \n",
    "def sql_monitoring():\n",
    "    \n",
    "    # read from existing function on msdb\n",
    "    df = pd.read_sql('EXEC msdb.dbo.sp_help_jobactivity;', conn)\n",
    "\n",
    "    # order by last_executed_step_date\n",
    "    df['last_executed_step_date'] = pd.to_datetime(df['last_executed_step_date']).apply(lambda x: x.date())\n",
    "    df['last_executed_step_date'] = df['last_executed_step_date'].astype(str)\n",
    "\n",
    "    # create a dataframe that contains jobs executed today\n",
    "    df_today = df[df['last_executed_step_date'] == datetime.today().strftime(\"%Y-%m-%d\")]\n",
    "\n",
    "    # create a dataframe that contains the jobs that have failed\n",
    "    df_failed = df_today[df_today['run_status'] == 0]\n",
    "\n",
    "    if len(df_failed) > 0:\n",
    "\n",
    "        for index, element in df_failed.iterrows():\n",
    "\n",
    "            alert(element['job_name'], element['last_executed_step_date'])\n",
    "            \n",
    "sql_monitoring()"
   ]
  },
  {
   "cell_type": "markdown",
   "metadata": {},
   "source": [
    "## Using pymssql"
   ]
  },
  {
   "cell_type": "code",
   "execution_count": null,
   "metadata": {},
   "outputs": [],
   "source": [
    "import pandas as pd\n",
    "import pymssql\n",
    "\n",
    "# database settings should be read from some secure config\n",
    "server = ''\n",
    "user = ''\n",
    "password = ''\n",
    "database = 'msdb' # ensure that this is msdb unless a stored procedure is used instead\n",
    "\n",
    "# configure database engine\n",
    "conn = pymssql.connect(server, user, password, database)\n",
    "\n",
    "# alert on failure\n",
    "def alert(job_name, last_run):\n",
    "    \n",
    "    # add method of alert, ie. MS Teams, Slack, API call, etc.\n",
    "    print('{} failed at {}'.format(job_name, last_run))\n",
    "    \n",
    "def sql_monitoring():\n",
    "    \n",
    "    # read from existing function on msdb\n",
    "    df = pd.read_sql('EXEC msdb.dbo.sp_help_jobactivity;', conn)\n",
    "\n",
    "    # order by last_executed_step_date\n",
    "    df['last_executed_step_date'] = pd.to_datetime(df['last_executed_step_date']).apply(lambda x: x.date())\n",
    "    df['last_executed_step_date'] = df['last_executed_step_date'].astype(str)\n",
    "\n",
    "    # create a dataframe that contains jobs executed today\n",
    "    df_today = df[df['last_executed_step_date'] == datetime.today().strftime(\"%Y-%m-%d\")]\n",
    "\n",
    "    # create a dataframe that contains the jobs that have failed\n",
    "    df_failed = df_today[df_today['run_status'] == 0]\n",
    "\n",
    "    if len(df_failed) > 0:\n",
    "\n",
    "        for index, element in df_failed.iterrows():\n",
    "\n",
    "            alert(element['job_name'], element['last_executed_step_date'])\n",
    "\n",
    "sql_monitoring()"
   ]
  }
 ],
 "metadata": {
  "kernelspec": {
   "display_name": "Python 3",
   "language": "python",
   "name": "python3"
  },
  "language_info": {
   "codemirror_mode": {
    "name": "ipython",
    "version": 3
   },
   "file_extension": ".py",
   "mimetype": "text/x-python",
   "name": "python",
   "nbconvert_exporter": "python",
   "pygments_lexer": "ipython3",
   "version": "3.6.4"
  }
 },
 "nbformat": 4,
 "nbformat_minor": 2
}
